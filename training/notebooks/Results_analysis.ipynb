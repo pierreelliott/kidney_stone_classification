{
 "cells": [
  {
   "cell_type": "code",
   "execution_count": 1,
   "id": "464e7e9a-8212-474d-a0f4-2e833a5ac369",
   "metadata": {},
   "outputs": [],
   "source": [
    "import os\n",
    "\n",
    "import pandas as pd\n",
    "import numpy as np\n",
    "import matplotlib.pyplot as plt\n",
    "# from sklearn import"
   ]
  },
  {
   "cell_type": "code",
   "execution_count": 92,
   "id": "dda06cad-afa3-4140-908c-68d559a0a5a4",
   "metadata": {},
   "outputs": [],
   "source": [
    "def path(text):\n",
    "    return os.path.join(*text.split(\"/\"))\n",
    "\n",
    "def annotate(ax):\n",
    "    for p in ax.patches:\n",
    "        ax.annotate(f\"{p.get_height():.2f}\", (p.get_x() + p.get_width() / 2, p.get_height()/2),\n",
    "                    ha='center', va='bottom', bbox={'color': 'white'})"
   ]
  },
  {
   "cell_type": "code",
   "execution_count": 23,
   "id": "88fcc5d3-c747-4706-a71f-39a126e8cfa5",
   "metadata": {},
   "outputs": [],
   "source": [
    "RUNS_PATH = path('../runs')\n",
    "RUN_ID = '2021-05-26_15-26-21'\n",
    "RUN_PATH = os.path.join(RUNS_PATH, RUN_ID)\n",
    "\n",
    "CLASSES = ['Ia', 'IIb', 'IIIb', 'Other']\n",
    "STATS_COLS = ['precision', 'recall', 'f1-score', 'support']"
   ]
  },
  {
   "cell_type": "code",
   "execution_count": 6,
   "id": "d82e9f0a-0106-406a-a401-bfd579030043",
   "metadata": {},
   "outputs": [],
   "source": [
    "reports = [e for e in os.listdir(RUN_PATH) if 'classification_report' in e]"
   ]
  },
  {
   "cell_type": "code",
   "execution_count": 65,
   "id": "d90ac78d-c324-4a7c-907b-080c3b7de3f2",
   "metadata": {},
   "outputs": [
    {
     "data": {
      "text/html": [
       "<div>\n",
       "<style scoped>\n",
       "    .dataframe tbody tr th:only-of-type {\n",
       "        vertical-align: middle;\n",
       "    }\n",
       "\n",
       "    .dataframe tbody tr th {\n",
       "        vertical-align: top;\n",
       "    }\n",
       "\n",
       "    .dataframe thead th {\n",
       "        text-align: right;\n",
       "    }\n",
       "</style>\n",
       "<table border=\"1\" class=\"dataframe\">\n",
       "  <thead>\n",
       "    <tr style=\"text-align: right;\">\n",
       "      <th></th>\n",
       "      <th>Ia</th>\n",
       "      <th>IIb</th>\n",
       "      <th>IIIb</th>\n",
       "      <th>Other</th>\n",
       "      <th>accuracy</th>\n",
       "      <th>macro avg</th>\n",
       "      <th>weighted avg</th>\n",
       "    </tr>\n",
       "  </thead>\n",
       "  <tbody>\n",
       "    <tr>\n",
       "      <th>precision</th>\n",
       "      <td>1.0</td>\n",
       "      <td>1.0</td>\n",
       "      <td>0.60</td>\n",
       "      <td>1.000000</td>\n",
       "      <td>0.904762</td>\n",
       "      <td>0.900000</td>\n",
       "      <td>0.942857</td>\n",
       "    </tr>\n",
       "    <tr>\n",
       "      <th>recall</th>\n",
       "      <td>1.0</td>\n",
       "      <td>1.0</td>\n",
       "      <td>1.00</td>\n",
       "      <td>0.777778</td>\n",
       "      <td>0.904762</td>\n",
       "      <td>0.944444</td>\n",
       "      <td>0.904762</td>\n",
       "    </tr>\n",
       "    <tr>\n",
       "      <th>f1-score</th>\n",
       "      <td>1.0</td>\n",
       "      <td>1.0</td>\n",
       "      <td>0.75</td>\n",
       "      <td>0.875000</td>\n",
       "      <td>0.904762</td>\n",
       "      <td>0.906250</td>\n",
       "      <td>0.910714</td>\n",
       "    </tr>\n",
       "    <tr>\n",
       "      <th>support</th>\n",
       "      <td>6.0</td>\n",
       "      <td>3.0</td>\n",
       "      <td>3.00</td>\n",
       "      <td>9.000000</td>\n",
       "      <td>0.904762</td>\n",
       "      <td>21.000000</td>\n",
       "      <td>21.000000</td>\n",
       "    </tr>\n",
       "  </tbody>\n",
       "</table>\n",
       "</div>"
      ],
      "text/plain": [
       "            Ia  IIb  IIIb     Other  accuracy  macro avg  weighted avg\n",
       "precision  1.0  1.0  0.60  1.000000  0.904762   0.900000      0.942857\n",
       "recall     1.0  1.0  1.00  0.777778  0.904762   0.944444      0.904762\n",
       "f1-score   1.0  1.0  0.75  0.875000  0.904762   0.906250      0.910714\n",
       "support    6.0  3.0  3.00  9.000000  0.904762  21.000000     21.000000"
      ]
     },
     "execution_count": 65,
     "metadata": {},
     "output_type": "execute_result"
    }
   ],
   "source": [
    "report = pd.read_csv(os.path.join(RUN_PATH, reports[0]))\n",
    "report.index=['precision', 'recall', 'f1-score', 'support']\n",
    "report"
   ]
  },
  {
   "cell_type": "code",
   "execution_count": 55,
   "id": "6523e1af-22e0-42d5-a732-26afbba35640",
   "metadata": {},
   "outputs": [
    {
     "data": {
      "text/plain": [
       "0.9047619047619048"
      ]
     },
     "execution_count": 55,
     "metadata": {},
     "output_type": "execute_result"
    }
   ],
   "source": [
    "report.iloc[0].accuracy"
   ]
  },
  {
   "cell_type": "code",
   "execution_count": 57,
   "id": "ea15a3e3-6a69-4731-bbff-803cda4a8523",
   "metadata": {},
   "outputs": [],
   "source": [
    "def merge_reports(reports):\n",
    "    accuracies = []\n",
    "    multiindex = pd.MultiIndex.from_product([CLASSES, STATS_COLS], names=['classes', 'stats'])\n",
    "    folds = []\n",
    "    for report_name in reports:\n",
    "        report = pd.read_csv(os.path.join(RUN_PATH, report_name))\n",
    "        accuracies.append(report.iloc[0].accuracy)\n",
    "        array = []\n",
    "        for k in CLASSES:\n",
    "            array.extend(report[k].values.tolist())\n",
    "        folds.append(array)\n",
    "    return pd.DataFrame(folds, columns=multiindex), accuracies"
   ]
  },
  {
   "cell_type": "code",
   "execution_count": 58,
   "id": "f912ccbc-b7cc-432a-933f-19c8af3e1ad4",
   "metadata": {},
   "outputs": [],
   "source": [
    "results, accuracies = merge_reports(reports)"
   ]
  },
  {
   "cell_type": "code",
   "execution_count": 99,
   "id": "5db74879-c7f7-40bc-8d03-906601a66074",
   "metadata": {},
   "outputs": [
    {
     "data": {
      "text/plain": [
       "0.8814285714285715"
      ]
     },
     "execution_count": 99,
     "metadata": {},
     "output_type": "execute_result"
    }
   ],
   "source": [
    "np.mean(accuracies)"
   ]
  },
  {
   "cell_type": "code",
   "execution_count": 59,
   "id": "4e37a92c-0d8b-448e-816f-50b549d8e31e",
   "metadata": {},
   "outputs": [
    {
     "data": {
      "text/html": [
       "<div>\n",
       "<style scoped>\n",
       "    .dataframe tbody tr th:only-of-type {\n",
       "        vertical-align: middle;\n",
       "    }\n",
       "\n",
       "    .dataframe tbody tr th {\n",
       "        vertical-align: top;\n",
       "    }\n",
       "\n",
       "    .dataframe thead tr th {\n",
       "        text-align: left;\n",
       "    }\n",
       "</style>\n",
       "<table border=\"1\" class=\"dataframe\">\n",
       "  <thead>\n",
       "    <tr>\n",
       "      <th>classes</th>\n",
       "      <th colspan=\"4\" halign=\"left\">Ia</th>\n",
       "      <th colspan=\"4\" halign=\"left\">IIb</th>\n",
       "      <th colspan=\"4\" halign=\"left\">IIIb</th>\n",
       "      <th colspan=\"4\" halign=\"left\">Other</th>\n",
       "    </tr>\n",
       "    <tr>\n",
       "      <th>stats</th>\n",
       "      <th>precision</th>\n",
       "      <th>recall</th>\n",
       "      <th>f1-score</th>\n",
       "      <th>support</th>\n",
       "      <th>precision</th>\n",
       "      <th>recall</th>\n",
       "      <th>f1-score</th>\n",
       "      <th>support</th>\n",
       "      <th>precision</th>\n",
       "      <th>recall</th>\n",
       "      <th>f1-score</th>\n",
       "      <th>support</th>\n",
       "      <th>precision</th>\n",
       "      <th>recall</th>\n",
       "      <th>f1-score</th>\n",
       "      <th>support</th>\n",
       "    </tr>\n",
       "  </thead>\n",
       "  <tbody>\n",
       "    <tr>\n",
       "      <th>0</th>\n",
       "      <td>1.0</td>\n",
       "      <td>1.0</td>\n",
       "      <td>1.0</td>\n",
       "      <td>6.0</td>\n",
       "      <td>1.0</td>\n",
       "      <td>1.000000</td>\n",
       "      <td>1.00</td>\n",
       "      <td>3.0</td>\n",
       "      <td>0.6</td>\n",
       "      <td>1.000000</td>\n",
       "      <td>0.750000</td>\n",
       "      <td>3.0</td>\n",
       "      <td>1.000000</td>\n",
       "      <td>0.777778</td>\n",
       "      <td>0.875000</td>\n",
       "      <td>9.0</td>\n",
       "    </tr>\n",
       "    <tr>\n",
       "      <th>1</th>\n",
       "      <td>1.0</td>\n",
       "      <td>1.0</td>\n",
       "      <td>1.0</td>\n",
       "      <td>6.0</td>\n",
       "      <td>1.0</td>\n",
       "      <td>1.000000</td>\n",
       "      <td>1.00</td>\n",
       "      <td>2.0</td>\n",
       "      <td>1.0</td>\n",
       "      <td>0.500000</td>\n",
       "      <td>0.666667</td>\n",
       "      <td>4.0</td>\n",
       "      <td>0.818182</td>\n",
       "      <td>1.000000</td>\n",
       "      <td>0.900000</td>\n",
       "      <td>9.0</td>\n",
       "    </tr>\n",
       "    <tr>\n",
       "      <th>2</th>\n",
       "      <td>1.0</td>\n",
       "      <td>1.0</td>\n",
       "      <td>1.0</td>\n",
       "      <td>6.0</td>\n",
       "      <td>1.0</td>\n",
       "      <td>1.000000</td>\n",
       "      <td>1.00</td>\n",
       "      <td>2.0</td>\n",
       "      <td>1.0</td>\n",
       "      <td>0.500000</td>\n",
       "      <td>0.666667</td>\n",
       "      <td>4.0</td>\n",
       "      <td>0.818182</td>\n",
       "      <td>1.000000</td>\n",
       "      <td>0.900000</td>\n",
       "      <td>9.0</td>\n",
       "    </tr>\n",
       "    <tr>\n",
       "      <th>3</th>\n",
       "      <td>1.0</td>\n",
       "      <td>1.0</td>\n",
       "      <td>1.0</td>\n",
       "      <td>5.0</td>\n",
       "      <td>0.6</td>\n",
       "      <td>1.000000</td>\n",
       "      <td>0.75</td>\n",
       "      <td>3.0</td>\n",
       "      <td>1.0</td>\n",
       "      <td>0.666667</td>\n",
       "      <td>0.800000</td>\n",
       "      <td>3.0</td>\n",
       "      <td>1.000000</td>\n",
       "      <td>0.888889</td>\n",
       "      <td>0.941176</td>\n",
       "      <td>9.0</td>\n",
       "    </tr>\n",
       "    <tr>\n",
       "      <th>4</th>\n",
       "      <td>1.0</td>\n",
       "      <td>1.0</td>\n",
       "      <td>1.0</td>\n",
       "      <td>5.0</td>\n",
       "      <td>1.0</td>\n",
       "      <td>0.666667</td>\n",
       "      <td>0.80</td>\n",
       "      <td>3.0</td>\n",
       "      <td>0.6</td>\n",
       "      <td>1.000000</td>\n",
       "      <td>0.750000</td>\n",
       "      <td>3.0</td>\n",
       "      <td>0.875000</td>\n",
       "      <td>0.777778</td>\n",
       "      <td>0.823529</td>\n",
       "      <td>9.0</td>\n",
       "    </tr>\n",
       "  </tbody>\n",
       "</table>\n",
       "</div>"
      ],
      "text/plain": [
       "classes        Ia                               IIb                     \\\n",
       "stats   precision recall f1-score support precision    recall f1-score   \n",
       "0             1.0    1.0      1.0     6.0       1.0  1.000000     1.00   \n",
       "1             1.0    1.0      1.0     6.0       1.0  1.000000     1.00   \n",
       "2             1.0    1.0      1.0     6.0       1.0  1.000000     1.00   \n",
       "3             1.0    1.0      1.0     5.0       0.6  1.000000     0.75   \n",
       "4             1.0    1.0      1.0     5.0       1.0  0.666667     0.80   \n",
       "\n",
       "classes              IIIb                                 Other            \\\n",
       "stats   support precision    recall  f1-score support precision    recall   \n",
       "0           3.0       0.6  1.000000  0.750000     3.0  1.000000  0.777778   \n",
       "1           2.0       1.0  0.500000  0.666667     4.0  0.818182  1.000000   \n",
       "2           2.0       1.0  0.500000  0.666667     4.0  0.818182  1.000000   \n",
       "3           3.0       1.0  0.666667  0.800000     3.0  1.000000  0.888889   \n",
       "4           3.0       0.6  1.000000  0.750000     3.0  0.875000  0.777778   \n",
       "\n",
       "classes                    \n",
       "stats    f1-score support  \n",
       "0        0.875000     9.0  \n",
       "1        0.900000     9.0  \n",
       "2        0.900000     9.0  \n",
       "3        0.941176     9.0  \n",
       "4        0.823529     9.0  "
      ]
     },
     "execution_count": 59,
     "metadata": {},
     "output_type": "execute_result"
    }
   ],
   "source": [
    "results.head()"
   ]
  },
  {
   "cell_type": "code",
   "execution_count": 60,
   "id": "6a05746b-be05-47e3-90cc-439503e1c864",
   "metadata": {},
   "outputs": [],
   "source": [
    "[precisions, recalls, fscores, supports] = [results.xs(stat_name, axis=1, level='stats') for stat_name in STATS_COLS]"
   ]
  },
  {
   "cell_type": "code",
   "execution_count": 96,
   "id": "cbc92ef0-a48f-47a8-acfc-63bb3fef8880",
   "metadata": {},
   "outputs": [
    {
     "data": {
      "text/plain": [
       "0.09147320339189784"
      ]
     },
     "execution_count": 96,
     "metadata": {},
     "output_type": "execute_result"
    }
   ],
   "source": [
    "np.std(precisions['Ia'])"
   ]
  },
  {
   "cell_type": "code",
   "execution_count": 98,
   "id": "3dc69399-e6a3-443b-858d-c1f208820301",
   "metadata": {},
   "outputs": [
    {
     "data": {
      "text/html": [
       "<div>\n",
       "<style scoped>\n",
       "    .dataframe tbody tr th:only-of-type {\n",
       "        vertical-align: middle;\n",
       "    }\n",
       "\n",
       "    .dataframe tbody tr th {\n",
       "        vertical-align: top;\n",
       "    }\n",
       "\n",
       "    .dataframe thead th {\n",
       "        text-align: right;\n",
       "    }\n",
       "</style>\n",
       "<table border=\"1\" class=\"dataframe\">\n",
       "  <thead>\n",
       "    <tr style=\"text-align: right;\">\n",
       "      <th>stats</th>\n",
       "      <th>precision</th>\n",
       "      <th>recall</th>\n",
       "      <th>f1-score</th>\n",
       "    </tr>\n",
       "    <tr>\n",
       "      <th>classes</th>\n",
       "      <th></th>\n",
       "      <th></th>\n",
       "      <th></th>\n",
       "    </tr>\n",
       "  </thead>\n",
       "  <tbody>\n",
       "    <tr>\n",
       "      <th>IIIb</th>\n",
       "      <td>0.173925</td>\n",
       "      <td>0.210819</td>\n",
       "      <td>0.095813</td>\n",
       "    </tr>\n",
       "    <tr>\n",
       "      <th>IIb</th>\n",
       "      <td>0.183384</td>\n",
       "      <td>0.235702</td>\n",
       "      <td>0.171810</td>\n",
       "    </tr>\n",
       "    <tr>\n",
       "      <th>Ia</th>\n",
       "      <td>0.096421</td>\n",
       "      <td>0.063246</td>\n",
       "      <td>0.060973</td>\n",
       "    </tr>\n",
       "    <tr>\n",
       "      <th>Other</th>\n",
       "      <td>0.094405</td>\n",
       "      <td>0.117121</td>\n",
       "      <td>0.059415</td>\n",
       "    </tr>\n",
       "  </tbody>\n",
       "</table>\n",
       "</div>"
      ],
      "text/plain": [
       "stats    precision    recall  f1-score\n",
       "classes                               \n",
       "IIIb      0.173925  0.210819  0.095813\n",
       "IIb       0.183384  0.235702  0.171810\n",
       "Ia        0.096421  0.063246  0.060973\n",
       "Other     0.094405  0.117121  0.059415"
      ]
     },
     "execution_count": 98,
     "metadata": {},
     "output_type": "execute_result"
    }
   ],
   "source": [
    "results.drop(columns='support', level='stats').std().unstack()"
   ]
  },
  {
   "cell_type": "code",
   "execution_count": 94,
   "id": "4fc871ee-4baf-4adf-be8c-e5b5fbd72cad",
   "metadata": {},
   "outputs": [
    {
     "data": {
      "text/html": [
       "<div>\n",
       "<style scoped>\n",
       "    .dataframe tbody tr th:only-of-type {\n",
       "        vertical-align: middle;\n",
       "    }\n",
       "\n",
       "    .dataframe tbody tr th {\n",
       "        vertical-align: top;\n",
       "    }\n",
       "\n",
       "    .dataframe thead th {\n",
       "        text-align: right;\n",
       "    }\n",
       "</style>\n",
       "<table border=\"1\" class=\"dataframe\">\n",
       "  <thead>\n",
       "    <tr style=\"text-align: right;\">\n",
       "      <th>stats</th>\n",
       "      <th>precision</th>\n",
       "      <th>recall</th>\n",
       "      <th>f1-score</th>\n",
       "    </tr>\n",
       "    <tr>\n",
       "      <th>classes</th>\n",
       "      <th></th>\n",
       "      <th></th>\n",
       "      <th></th>\n",
       "    </tr>\n",
       "  </thead>\n",
       "  <tbody>\n",
       "    <tr>\n",
       "      <th>IIIb</th>\n",
       "      <td>0.895000</td>\n",
       "      <td>0.766667</td>\n",
       "      <td>0.789048</td>\n",
       "    </tr>\n",
       "    <tr>\n",
       "      <th>IIb</th>\n",
       "      <td>0.886667</td>\n",
       "      <td>0.833333</td>\n",
       "      <td>0.826667</td>\n",
       "    </tr>\n",
       "    <tr>\n",
       "      <th>Ia</th>\n",
       "      <td>0.957143</td>\n",
       "      <td>0.980000</td>\n",
       "      <td>0.964530</td>\n",
       "    </tr>\n",
       "    <tr>\n",
       "      <th>Other</th>\n",
       "      <td>0.892955</td>\n",
       "      <td>0.888889</td>\n",
       "      <td>0.882392</td>\n",
       "    </tr>\n",
       "  </tbody>\n",
       "</table>\n",
       "</div>"
      ],
      "text/plain": [
       "stats    precision    recall  f1-score\n",
       "classes                               \n",
       "IIIb      0.895000  0.766667  0.789048\n",
       "IIb       0.886667  0.833333  0.826667\n",
       "Ia        0.957143  0.980000  0.964530\n",
       "Other     0.892955  0.888889  0.882392"
      ]
     },
     "execution_count": 94,
     "metadata": {},
     "output_type": "execute_result"
    }
   ],
   "source": [
    "results.drop(columns='support', level='stats').mean().unstack()"
   ]
  },
  {
   "cell_type": "code",
   "execution_count": 93,
   "id": "a3cfbb40-6884-450c-8c0e-6d17fb4157ef",
   "metadata": {},
   "outputs": [
    {
     "data": {
      "image/png": "[encoded data removed]",
      "text/plain": [
       "<Figure size 1296x432 with 1 Axes>"
      ]
     },
     "metadata": {
      "needs_background": "light"
     },
     "output_type": "display_data"
    }
   ],
   "source": [
    "group = results.drop(columns='support', level='stats')\n",
    "ax = group.mean().unstack().plot(kind='bar', figsize=(18, 6), yerr=group.std().unstack())\n",
    "annotate(ax)"
   ]
  }
 ],
 "metadata": {
  "kernelspec": {
   "display_name": "Python 3",
   "language": "python",
   "name": "python3"
  },
  "language_info": {
   "codemirror_mode": {
    "name": "ipython",
    "version": 3
   },
   "file_extension": ".py",
   "mimetype": "text/x-python",
   "name": "python",
   "nbconvert_exporter": "python",
   "pygments_lexer": "ipython3",
   "version": "3.8.8"
  }
 },
 "nbformat": 4,
 "nbformat_minor": 5
}
