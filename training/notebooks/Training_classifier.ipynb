{
 "cells": [
  {
   "cell_type": "code",
   "execution_count": 1,
   "id": "37ead5eb-27e2-4717-9562-e13ee36955e6",
   "metadata": {},
   "outputs": [
    {
     "name": "stdout",
     "output_type": "stream",
     "text": [
      "WARNING:tensorflow:From <ipython-input-1-b98ce959d027>:12: is_gpu_available (from tensorflow.python.framework.test_util) is deprecated and will be removed in a future version.\n",
      "Instructions for updating:\n",
      "Use `tf.config.list_physical_devices('GPU')` instead.\n"
     ]
    },
    {
     "data": {
      "text/plain": [
       "True"
      ]
     },
     "execution_count": 1,
     "metadata": {},
     "output_type": "execute_result"
    }
   ],
   "source": [
    "import os\n",
    "import re\n",
    "\n",
    "import pandas as pd\n",
    "import skimage as ski\n",
    "import numpy as np\n",
    "import tensorflow as tf\n",
    "import matplotlib.pyplot as plt\n",
    "from sklearn.neural_network import MLPClassifier\n",
    "from sklearn.metrics import classification_report\n",
    "\n",
    "tf.test.is_gpu_available()"
   ]
  },
  {
   "cell_type": "code",
   "execution_count": 2,
   "id": "0351ce5d-3010-43eb-a08e-ee01f7d1be5a",
   "metadata": {
    "jupyter": {
     "source_hidden": true
    },
    "tags": []
   },
   "outputs": [],
   "source": [
    "def path(text):\n",
    "    return os.path.join(*text.split(\"/\"))"
   ]
  },
  {
   "cell_type": "markdown",
   "id": "82418ae8-8228-4f44-a7cb-984980276a73",
   "metadata": {},
   "source": [
    "# Parameters"
   ]
  },
  {
   "cell_type": "code",
   "execution_count": 3,
   "id": "25bce5ef-13b9-4150-90aa-80ca3aada616",
   "metadata": {},
   "outputs": [],
   "source": [
    "DATASET_PATH = path(\"../dataset.csv\")\n",
    "KS_IMAGES_PATH = path(\"../../../ksc-data/images\")\n",
    "FEATURES_PATH = path(\"../features/old.vgg19.npy\")\n",
    "\n",
    "SEED = 42\n",
    "TRAIN_TEST_SPLIT_SIZE = 0.7\n",
    "CLASSES = ['Ia', 'IIb', 'IIIb']\n",
    "# CLASSES = None\n",
    "WITH_OTHER = True  # If True, kidney stones which don't fall into preceding 'CLASSES' will be put in an 'Other' class\n",
    "\n",
    "BATCH_SIZE = 64"
   ]
  },
  {
   "cell_type": "markdown",
   "id": "6a7fce66-ffc3-4605-9281-c39c81fbdd20",
   "metadata": {},
   "source": [
    "# Dataset loading"
   ]
  },
  {
   "cell_type": "code",
   "execution_count": 4,
   "id": "a9967b08-99d2-4826-8f46-3229cd4f2c82",
   "metadata": {},
   "outputs": [],
   "source": [
    "df = pd.read_csv(DATASET_PATH)"
   ]
  },
  {
   "cell_type": "code",
   "execution_count": 5,
   "id": "fc9fb748-7990-4e76-82f3-c72008960dd4",
   "metadata": {},
   "outputs": [],
   "source": [
    "POTENTIAL_CLASSES = df.stone_class.unique().tolist()\n",
    "if CLASSES is None:\n",
    "    CLASSES = POTENTIAL_CLASSES\n",
    "    WITH_OTHER = False"
   ]
  },
  {
   "cell_type": "code",
   "execution_count": 6,
   "id": "86efa6eb-4fa4-4004-9d68-f991294524ba",
   "metadata": {},
   "outputs": [],
   "source": [
    "df['type_image'] = df.SEC.map(lambda x: 'SEC' if x else 'SUR')"
   ]
  },
  {
   "cell_type": "code",
   "execution_count": 7,
   "id": "53c188cf-7f4d-4e93-a4aa-b7dee7d63906",
   "metadata": {},
   "outputs": [
    {
     "data": {
      "text/html": [
       "<div>\n",
       "<style scoped>\n",
       "    .dataframe tbody tr th:only-of-type {\n",
       "        vertical-align: middle;\n",
       "    }\n",
       "\n",
       "    .dataframe tbody tr th {\n",
       "        vertical-align: top;\n",
       "    }\n",
       "\n",
       "    .dataframe thead th {\n",
       "        text-align: right;\n",
       "    }\n",
       "</style>\n",
       "<table border=\"1\" class=\"dataframe\">\n",
       "  <thead>\n",
       "    <tr style=\"text-align: right;\">\n",
       "      <th></th>\n",
       "      <th>filename</th>\n",
       "      <th>stone_class</th>\n",
       "      <th>class_level_1</th>\n",
       "      <th>class_level_2</th>\n",
       "      <th>filetype</th>\n",
       "      <th>SUR</th>\n",
       "      <th>SEC</th>\n",
       "      <th>type_image</th>\n",
       "    </tr>\n",
       "  </thead>\n",
       "  <tbody>\n",
       "    <tr>\n",
       "      <th>0</th>\n",
       "      <td>Ia_SEC_1.jpg</td>\n",
       "      <td>Ia</td>\n",
       "      <td>I</td>\n",
       "      <td>a</td>\n",
       "      <td>jpg</td>\n",
       "      <td>False</td>\n",
       "      <td>True</td>\n",
       "      <td>SEC</td>\n",
       "    </tr>\n",
       "    <tr>\n",
       "      <th>1</th>\n",
       "      <td>Ia_SEC_10.jpg</td>\n",
       "      <td>Ia</td>\n",
       "      <td>I</td>\n",
       "      <td>a</td>\n",
       "      <td>jpg</td>\n",
       "      <td>False</td>\n",
       "      <td>True</td>\n",
       "      <td>SEC</td>\n",
       "    </tr>\n",
       "    <tr>\n",
       "      <th>2</th>\n",
       "      <td>Ia_SEC_11.jpg</td>\n",
       "      <td>Ia</td>\n",
       "      <td>I</td>\n",
       "      <td>a</td>\n",
       "      <td>jpg</td>\n",
       "      <td>False</td>\n",
       "      <td>True</td>\n",
       "      <td>SEC</td>\n",
       "    </tr>\n",
       "    <tr>\n",
       "      <th>3</th>\n",
       "      <td>Ia_SEC_12.jpg</td>\n",
       "      <td>Ia</td>\n",
       "      <td>I</td>\n",
       "      <td>a</td>\n",
       "      <td>jpg</td>\n",
       "      <td>False</td>\n",
       "      <td>True</td>\n",
       "      <td>SEC</td>\n",
       "    </tr>\n",
       "    <tr>\n",
       "      <th>4</th>\n",
       "      <td>Ia_SEC_13.jpg</td>\n",
       "      <td>Ia</td>\n",
       "      <td>I</td>\n",
       "      <td>a</td>\n",
       "      <td>jpg</td>\n",
       "      <td>False</td>\n",
       "      <td>True</td>\n",
       "      <td>SEC</td>\n",
       "    </tr>\n",
       "  </tbody>\n",
       "</table>\n",
       "</div>"
      ],
      "text/plain": [
       "        filename stone_class class_level_1 class_level_2 filetype    SUR  \\\n",
       "0   Ia_SEC_1.jpg          Ia             I             a      jpg  False   \n",
       "1  Ia_SEC_10.jpg          Ia             I             a      jpg  False   \n",
       "2  Ia_SEC_11.jpg          Ia             I             a      jpg  False   \n",
       "3  Ia_SEC_12.jpg          Ia             I             a      jpg  False   \n",
       "4  Ia_SEC_13.jpg          Ia             I             a      jpg  False   \n",
       "\n",
       "    SEC type_image  \n",
       "0  True        SEC  \n",
       "1  True        SEC  \n",
       "2  True        SEC  \n",
       "3  True        SEC  \n",
       "4  True        SEC  "
      ]
     },
     "execution_count": 7,
     "metadata": {},
     "output_type": "execute_result"
    }
   ],
   "source": [
    "df.head()"
   ]
  },
  {
   "cell_type": "code",
   "execution_count": 8,
   "id": "99828dca-d7e6-420b-b5c5-b81b27881126",
   "metadata": {},
   "outputs": [],
   "source": [
    "filtered_df = df"
   ]
  },
  {
   "cell_type": "code",
   "execution_count": 9,
   "id": "6e28eee3-c7ab-40d1-877c-08ea21066d83",
   "metadata": {},
   "outputs": [],
   "source": [
    "rng = np.random.default_rng(SEED)\n",
    "indices = filtered_df.index.values\n",
    "rng.shuffle(indices)"
   ]
  },
  {
   "cell_type": "code",
   "execution_count": 10,
   "id": "5ebccf5a-ff04-48c3-8cfb-54e09d9c924d",
   "metadata": {},
   "outputs": [
    {
     "data": {
      "text/plain": [
       "(203, 4, 7, 7, 512)"
      ]
     },
     "execution_count": 10,
     "metadata": {},
     "output_type": "execute_result"
    }
   ],
   "source": [
    "features = np.load(FEATURES_PATH)\n",
    "features.shape"
   ]
  },
  {
   "cell_type": "code",
   "execution_count": 11,
   "id": "96c28186-8f7f-417e-ab64-acf122ab3852",
   "metadata": {},
   "outputs": [],
   "source": [
    "X = features[indices]"
   ]
  },
  {
   "cell_type": "code",
   "execution_count": 12,
   "id": "1d34c8c8-c920-47b3-add9-4d0217739df8",
   "metadata": {},
   "outputs": [],
   "source": [
    "def classes_mapper(y):\n",
    "    try:\n",
    "        return CLASSES.index(y)\n",
    "    except Exception as e:\n",
    "        if WITH_OTHER:\n",
    "            return len(CLASSES)\n",
    "        raise e"
   ]
  },
  {
   "cell_type": "code",
   "execution_count": 13,
   "id": "26462d46-2f73-49a1-a1f5-8d4c4926671d",
   "metadata": {},
   "outputs": [],
   "source": [
    "def inverse_class_mapper(pred):\n",
    "    return (CLASSES + ['Other'] if WITH_OTHER else CLASSES)[pred]"
   ]
  },
  {
   "cell_type": "code",
   "execution_count": 14,
   "id": "3aa75443-4884-453a-993c-1a458a48ce7a",
   "metadata": {},
   "outputs": [],
   "source": [
    "shuffled_df = pd.DataFrame(filtered_df.iloc[indices])"
   ]
  },
  {
   "cell_type": "code",
   "execution_count": 15,
   "id": "d64f9429-ddef-446d-8c94-f5540ea64c2c",
   "metadata": {},
   "outputs": [],
   "source": [
    "shuffled_df['class_number'] = shuffled_df.stone_class.map(classes_mapper)"
   ]
  },
  {
   "cell_type": "code",
   "execution_count": 16,
   "id": "7140fbd7-25b8-4b7c-a8ad-8dfbe19a3c55",
   "metadata": {},
   "outputs": [],
   "source": [
    "Y = shuffled_df.class_number.values"
   ]
  },
  {
   "cell_type": "code",
   "execution_count": 17,
   "id": "7d25dcd4-bf73-45e2-a249-f59fd243bf66",
   "metadata": {},
   "outputs": [
    {
     "name": "stdout",
     "output_type": "stream",
     "text": [
      "[3 0 3 0 0 0 3 3 3 3 0 3 1 0 2 3 3 0 3 0 2 3 3 2 3 1 0 3 3 3 3 3 3 0 0 1 3\n",
      " 2 3 1 3 0 0 0 3 3 1 0 3 1 1 1 1 0 2 2 3 1 0 1 0 0 2 3 3 1 3 3 0 0 3 0 3 2\n",
      " 0 3 1 3 3 3 0 2 3 3 0 3 2 0 1 2 0 3 2 3 2 3 2 2 1 3 3 1 0 1 1 3 0 3 3 2 2\n",
      " 3 3 3 3 1 1 3 2 0 2 1 1 1 3 3 3 3 1 3 3 3 2 3 2 3 2 0 2 2 3 0 0 2 0 3 0 3\n",
      " 3 0 3 3 2 3 1 3 0 2 0 3 3 3 3 3 0 3 3 0 3 1 2 0 0 0 3 0 0 3 0 3 0 0 1 3 2\n",
      " 3 0 3 0 0 3 3 0 3 2 3 0 2 3 0 1 3 2]\n"
     ]
    }
   ],
   "source": [
    "print(Y)"
   ]
  },
  {
   "cell_type": "code",
   "execution_count": 18,
   "id": "da4d06ff-b4da-444a-8b39-fc5ced016def",
   "metadata": {},
   "outputs": [],
   "source": [
    "train_size = int(TRAIN_TEST_SPLIT_SIZE * shuffled_df.shape[0])"
   ]
  },
  {
   "cell_type": "code",
   "execution_count": 19,
   "id": "25cba9f1-c8a5-4df8-914e-b5f129fd1b03",
   "metadata": {},
   "outputs": [
    {
     "name": "stdout",
     "output_type": "stream",
     "text": [
      "Y_train.shape = (568,)\n",
      "X_train.shape = (568, 25088)\n"
     ]
    }
   ],
   "source": [
    "X_train = X[:train_size]\n",
    "Y_train = Y[:train_size]\n",
    "\n",
    "Y_train = np.reshape(Y_train, (Y_train.shape[0], -1))\n",
    "Y_train = np.repeat(Y_train, X_train.shape[1], axis=-1)\n",
    "Y_train = np.reshape(Y_train, (-1,))\n",
    "print(f\"Y_train.shape = {Y_train.shape}\")\n",
    "\n",
    "X_train = np.reshape(X_train, (-1,) + X_train.shape[2:])\n",
    "X_train = np.reshape(X_train, (X_train.shape[0], -1))\n",
    "print(f\"X_train.shape = {X_train.shape}\")"
   ]
  },
  {
   "cell_type": "code",
   "execution_count": 20,
   "id": "252915d1-0e51-4270-b270-62d12a77303b",
   "metadata": {},
   "outputs": [
    {
     "name": "stdout",
     "output_type": "stream",
     "text": [
      "X_test.shape = (61, 25088)\n",
      "Y_test.shape = (61,)\n"
     ]
    }
   ],
   "source": [
    "X_test = X[train_size:]\n",
    "Y_test = Y[train_size:]\n",
    "\n",
    "X_test = X_test[:, 0, ...]\n",
    "X_test = np.reshape(X_test, (-1,) + X_test.shape[1:])\n",
    "X_test = np.reshape(X_test, (X_test.shape[0], -1))\n",
    "print(f\"X_test.shape = {X_test.shape}\")\n",
    "\n",
    "print(f\"Y_test.shape = {Y_test.shape}\")"
   ]
  },
  {
   "cell_type": "markdown",
   "id": "006a6bec-b56d-4763-9c7b-041ec59aa410",
   "metadata": {},
   "source": [
    "# Model creation"
   ]
  },
  {
   "cell_type": "code",
   "execution_count": 21,
   "id": "768aa7da-8053-4fa3-b0b3-1a8a89ed7580",
   "metadata": {},
   "outputs": [],
   "source": [
    "hidden_layers = (500,)\n",
    "nb_classes = len(CLASSES) + int(WITH_OTHER)"
   ]
  },
  {
   "cell_type": "code",
   "execution_count": 22,
   "id": "77fda5b1-5e36-4ec1-b4d9-26ce1b4af3ab",
   "metadata": {},
   "outputs": [],
   "source": [
    "classifier = MLPClassifier(hidden_layers, batch_size=BATCH_SIZE, verbose=True, random_state=SEED, early_stopping=True)"
   ]
  },
  {
   "cell_type": "code",
   "execution_count": 23,
   "id": "6b9645af-cbbc-4c49-8ff9-18410a75b53d",
   "metadata": {},
   "outputs": [
    {
     "name": "stdout",
     "output_type": "stream",
     "text": [
      "Iteration 1, loss = 7.14913862\n",
      "Validation score: 0.649123\n",
      "Iteration 2, loss = 1.83709592\n",
      "Validation score: 0.894737\n",
      "Iteration 3, loss = 0.78434202\n",
      "Validation score: 0.877193\n",
      "Iteration 4, loss = 0.11554033\n",
      "Validation score: 0.877193\n",
      "Iteration 5, loss = 0.03284237\n",
      "Validation score: 0.894737\n",
      "Iteration 6, loss = 0.00107680\n",
      "Validation score: 0.912281\n",
      "Iteration 7, loss = 0.00575505\n",
      "Validation score: 0.947368\n",
      "Iteration 8, loss = 0.00093292\n",
      "Validation score: 0.947368\n",
      "Iteration 9, loss = 0.00092539\n",
      "Validation score: 0.929825\n",
      "Iteration 10, loss = 0.00092373\n",
      "Validation score: 0.929825\n",
      "Iteration 11, loss = 0.00092264\n",
      "Validation score: 0.929825\n",
      "Iteration 12, loss = 0.00092195\n",
      "Validation score: 0.929825\n",
      "Iteration 13, loss = 0.00092142\n",
      "Validation score: 0.929825\n",
      "Iteration 14, loss = 0.00092092\n",
      "Validation score: 0.929825\n",
      "Iteration 15, loss = 0.00092045\n",
      "Validation score: 0.929825\n",
      "Iteration 16, loss = 0.00092000\n",
      "Validation score: 0.929825\n",
      "Iteration 17, loss = 0.00091956\n",
      "Validation score: 0.929825\n",
      "Iteration 18, loss = 0.00091915\n",
      "Validation score: 0.929825\n",
      "Validation score did not improve more than tol=0.000100 for 10 consecutive epochs. Stopping.\n"
     ]
    },
    {
     "data": {
      "text/plain": [
       "MLPClassifier(batch_size=64, early_stopping=True, hidden_layer_sizes=(500,),\n",
       "              random_state=42, verbose=True)"
      ]
     },
     "execution_count": 23,
     "metadata": {},
     "output_type": "execute_result"
    }
   ],
   "source": [
    "classifier.fit(X_train, Y_train)"
   ]
  },
  {
   "cell_type": "code",
   "execution_count": 24,
   "id": "fefb37b8-9e2a-4dd2-bb47-5cffc0837a52",
   "metadata": {},
   "outputs": [
    {
     "data": {
      "image/png": "[encoded data removed]",
      "text/plain": [
       "<Figure size 1296x432 with 1 Axes>"
      ]
     },
     "metadata": {
      "needs_background": "light"
     },
     "output_type": "display_data"
    }
   ],
   "source": [
    "plt.figure(figsize=(18,6))\n",
    "xticks = np.arange(classifier.n_iter_) + 1\n",
    "plt.plot(xticks, classifier.loss_curve_);\n",
    "# plt.yscale('log');\n",
    "plt.xticks(xticks);\n",
    "plt.xlabel('Epochs');\n",
    "plt.ylabel('Loss');"
   ]
  },
  {
   "cell_type": "code",
   "execution_count": 25,
   "id": "3af09dac-9f25-43d0-8f9d-c0d46700331e",
   "metadata": {},
   "outputs": [
    {
     "data": {
      "text/plain": [
       "0.8852459016393442"
      ]
     },
     "execution_count": 25,
     "metadata": {},
     "output_type": "execute_result"
    }
   ],
   "source": [
    "classifier.score(X_test, Y_test)"
   ]
  },
  {
   "cell_type": "markdown",
   "id": "9344c3fb-f302-4e4a-817b-93da05f566c2",
   "metadata": {},
   "source": [
    "# Test model performances"
   ]
  },
  {
   "cell_type": "code",
   "execution_count": 26,
   "id": "b53282f5-a0bf-4e65-a28e-3f3661495f3b",
   "metadata": {},
   "outputs": [],
   "source": [
    "Y_pred = classifier.predict(X_test)"
   ]
  },
  {
   "cell_type": "code",
   "execution_count": 27,
   "id": "f9b47ef8-c396-453a-8d14-b8db39f9fce9",
   "metadata": {},
   "outputs": [
    {
     "name": "stdout",
     "output_type": "stream",
     "text": [
      "              precision    recall  f1-score   support\n",
      "\n",
      "          Ia       0.96      1.00      0.98        22\n",
      "         IIb       1.00      0.50      0.67         4\n",
      "        IIIb       0.67      0.75      0.71         8\n",
      "       Other       0.89      0.89      0.89        27\n",
      "\n",
      "    accuracy                           0.89        61\n",
      "   macro avg       0.88      0.78      0.81        61\n",
      "weighted avg       0.89      0.89      0.88        61\n",
      "\n"
     ]
    }
   ],
   "source": [
    "class_labels = CLASSES + ['Other'] if WITH_OTHER else CLASSES\n",
    "print(classification_report(Y_test, Y_pred, target_names=class_labels))"
   ]
  },
  {
   "cell_type": "code",
   "execution_count": 28,
   "id": "acd232cd-2310-4876-8574-f16e92fecbb3",
   "metadata": {},
   "outputs": [],
   "source": [
    "test_df = pd.DataFrame(shuffled_df[train_size:])"
   ]
  },
  {
   "cell_type": "code",
   "execution_count": 29,
   "id": "8f5a8512-197f-466d-a924-bdbf6023373f",
   "metadata": {},
   "outputs": [],
   "source": [
    "test_df['y_pred'] = list(map(inverse_class_mapper, Y_pred))\n",
    "test_df['y_true'] = list(map(inverse_class_mapper, Y_test))"
   ]
  },
  {
   "cell_type": "code",
   "execution_count": 30,
   "id": "71614a10-7d1e-45e3-ab9b-f8a52f62adb7",
   "metadata": {},
   "outputs": [],
   "source": [
    "test_df['correct'] = (Y_pred == Y_test).astype('int32')"
   ]
  },
  {
   "cell_type": "code",
   "execution_count": 31,
   "id": "08749155-6e35-4b24-8074-74ee50e4db7b",
   "metadata": {},
   "outputs": [
    {
     "data": {
      "text/html": [
       "<div>\n",
       "<style scoped>\n",
       "    .dataframe tbody tr th:only-of-type {\n",
       "        vertical-align: middle;\n",
       "    }\n",
       "\n",
       "    .dataframe tbody tr th {\n",
       "        vertical-align: top;\n",
       "    }\n",
       "\n",
       "    .dataframe thead th {\n",
       "        text-align: right;\n",
       "    }\n",
       "</style>\n",
       "<table border=\"1\" class=\"dataframe\">\n",
       "  <thead>\n",
       "    <tr style=\"text-align: right;\">\n",
       "      <th></th>\n",
       "      <th>filename</th>\n",
       "      <th>stone_class</th>\n",
       "      <th>class_level_1</th>\n",
       "      <th>class_level_2</th>\n",
       "      <th>filetype</th>\n",
       "      <th>SUR</th>\n",
       "      <th>SEC</th>\n",
       "      <th>type_image</th>\n",
       "      <th>class_number</th>\n",
       "      <th>y_pred</th>\n",
       "      <th>y_true</th>\n",
       "      <th>correct</th>\n",
       "    </tr>\n",
       "  </thead>\n",
       "  <tbody>\n",
       "    <tr>\n",
       "      <th>3</th>\n",
       "      <td>Ia_SUR_25.jpg</td>\n",
       "      <td>Ia</td>\n",
       "      <td>I</td>\n",
       "      <td>a</td>\n",
       "      <td>jpg</td>\n",
       "      <td>True</td>\n",
       "      <td>False</td>\n",
       "      <td>SUR</td>\n",
       "      <td>0</td>\n",
       "      <td>Ia</td>\n",
       "      <td>Ia</td>\n",
       "      <td>1</td>\n",
       "    </tr>\n",
       "    <tr>\n",
       "      <th>95</th>\n",
       "      <td>IIIb_SEC_15.jpg</td>\n",
       "      <td>IIIb</td>\n",
       "      <td>III</td>\n",
       "      <td>b</td>\n",
       "      <td>jpg</td>\n",
       "      <td>False</td>\n",
       "      <td>True</td>\n",
       "      <td>SEC</td>\n",
       "      <td>2</td>\n",
       "      <td>IIIb</td>\n",
       "      <td>IIIb</td>\n",
       "      <td>1</td>\n",
       "    </tr>\n",
       "    <tr>\n",
       "      <th>37</th>\n",
       "      <td>Ia_SEC_25.jpg</td>\n",
       "      <td>Ia</td>\n",
       "      <td>I</td>\n",
       "      <td>a</td>\n",
       "      <td>jpg</td>\n",
       "      <td>False</td>\n",
       "      <td>True</td>\n",
       "      <td>SEC</td>\n",
       "      <td>0</td>\n",
       "      <td>Ia</td>\n",
       "      <td>Ia</td>\n",
       "      <td>1</td>\n",
       "    </tr>\n",
       "    <tr>\n",
       "      <th>186</th>\n",
       "      <td>Va_SEC_1.png</td>\n",
       "      <td>Va</td>\n",
       "      <td>V</td>\n",
       "      <td>a</td>\n",
       "      <td>png</td>\n",
       "      <td>False</td>\n",
       "      <td>True</td>\n",
       "      <td>SEC</td>\n",
       "      <td>3</td>\n",
       "      <td>Other</td>\n",
       "      <td>Other</td>\n",
       "      <td>1</td>\n",
       "    </tr>\n",
       "    <tr>\n",
       "      <th>27</th>\n",
       "      <td>Ia_SUR_9.jpg</td>\n",
       "      <td>Ia</td>\n",
       "      <td>I</td>\n",
       "      <td>a</td>\n",
       "      <td>jpg</td>\n",
       "      <td>True</td>\n",
       "      <td>False</td>\n",
       "      <td>SUR</td>\n",
       "      <td>0</td>\n",
       "      <td>Ia</td>\n",
       "      <td>Ia</td>\n",
       "      <td>1</td>\n",
       "    </tr>\n",
       "    <tr>\n",
       "      <th>...</th>\n",
       "      <td>...</td>\n",
       "      <td>...</td>\n",
       "      <td>...</td>\n",
       "      <td>...</td>\n",
       "      <td>...</td>\n",
       "      <td>...</td>\n",
       "      <td>...</td>\n",
       "      <td>...</td>\n",
       "      <td>...</td>\n",
       "      <td>...</td>\n",
       "      <td>...</td>\n",
       "      <td>...</td>\n",
       "    </tr>\n",
       "    <tr>\n",
       "      <th>140</th>\n",
       "      <td>Va_SUR_5.png</td>\n",
       "      <td>Va</td>\n",
       "      <td>V</td>\n",
       "      <td>a</td>\n",
       "      <td>png</td>\n",
       "      <td>True</td>\n",
       "      <td>False</td>\n",
       "      <td>SUR</td>\n",
       "      <td>3</td>\n",
       "      <td>Other</td>\n",
       "      <td>Other</td>\n",
       "      <td>1</td>\n",
       "    </tr>\n",
       "    <tr>\n",
       "      <th>151</th>\n",
       "      <td>Ia_SUR_2.jpg</td>\n",
       "      <td>Ia</td>\n",
       "      <td>I</td>\n",
       "      <td>a</td>\n",
       "      <td>jpg</td>\n",
       "      <td>True</td>\n",
       "      <td>False</td>\n",
       "      <td>SUR</td>\n",
       "      <td>0</td>\n",
       "      <td>IIb</td>\n",
       "      <td>Ia</td>\n",
       "      <td>0</td>\n",
       "    </tr>\n",
       "    <tr>\n",
       "      <th>133</th>\n",
       "      <td>IIb_SUR_20.jpg</td>\n",
       "      <td>IIb</td>\n",
       "      <td>II</td>\n",
       "      <td>b</td>\n",
       "      <td>jpg</td>\n",
       "      <td>True</td>\n",
       "      <td>False</td>\n",
       "      <td>SUR</td>\n",
       "      <td>1</td>\n",
       "      <td>IIb</td>\n",
       "      <td>IIb</td>\n",
       "      <td>1</td>\n",
       "    </tr>\n",
       "    <tr>\n",
       "      <th>113</th>\n",
       "      <td>Va_SUR_4.png</td>\n",
       "      <td>Va</td>\n",
       "      <td>V</td>\n",
       "      <td>a</td>\n",
       "      <td>png</td>\n",
       "      <td>True</td>\n",
       "      <td>False</td>\n",
       "      <td>SUR</td>\n",
       "      <td>3</td>\n",
       "      <td>Other</td>\n",
       "      <td>Other</td>\n",
       "      <td>1</td>\n",
       "    </tr>\n",
       "    <tr>\n",
       "      <th>138</th>\n",
       "      <td>IIIb_SUR_14.jpg</td>\n",
       "      <td>IIIb</td>\n",
       "      <td>III</td>\n",
       "      <td>b</td>\n",
       "      <td>jpg</td>\n",
       "      <td>True</td>\n",
       "      <td>False</td>\n",
       "      <td>SUR</td>\n",
       "      <td>2</td>\n",
       "      <td>IIIb</td>\n",
       "      <td>IIIb</td>\n",
       "      <td>1</td>\n",
       "    </tr>\n",
       "  </tbody>\n",
       "</table>\n",
       "<p>61 rows × 12 columns</p>\n",
       "</div>"
      ],
      "text/plain": [
       "            filename stone_class class_level_1 class_level_2 filetype    SUR  \\\n",
       "3      Ia_SUR_25.jpg          Ia             I             a      jpg   True   \n",
       "95   IIIb_SEC_15.jpg        IIIb           III             b      jpg  False   \n",
       "37     Ia_SEC_25.jpg          Ia             I             a      jpg  False   \n",
       "186     Va_SEC_1.png          Va             V             a      png  False   \n",
       "27      Ia_SUR_9.jpg          Ia             I             a      jpg   True   \n",
       "..               ...         ...           ...           ...      ...    ...   \n",
       "140     Va_SUR_5.png          Va             V             a      png   True   \n",
       "151     Ia_SUR_2.jpg          Ia             I             a      jpg   True   \n",
       "133   IIb_SUR_20.jpg         IIb            II             b      jpg   True   \n",
       "113     Va_SUR_4.png          Va             V             a      png   True   \n",
       "138  IIIb_SUR_14.jpg        IIIb           III             b      jpg   True   \n",
       "\n",
       "       SEC type_image  class_number y_pred y_true  correct  \n",
       "3    False        SUR             0     Ia     Ia        1  \n",
       "95    True        SEC             2   IIIb   IIIb        1  \n",
       "37    True        SEC             0     Ia     Ia        1  \n",
       "186   True        SEC             3  Other  Other        1  \n",
       "27   False        SUR             0     Ia     Ia        1  \n",
       "..     ...        ...           ...    ...    ...      ...  \n",
       "140  False        SUR             3  Other  Other        1  \n",
       "151  False        SUR             0    IIb     Ia        0  \n",
       "133  False        SUR             1    IIb    IIb        1  \n",
       "113  False        SUR             3  Other  Other        1  \n",
       "138  False        SUR             2   IIIb   IIIb        1  \n",
       "\n",
       "[61 rows x 12 columns]"
      ]
     },
     "execution_count": 31,
     "metadata": {},
     "output_type": "execute_result"
    }
   ],
   "source": [
    "test_df"
   ]
  },
  {
   "cell_type": "code",
   "execution_count": null,
   "id": "fea1f3ba-9a94-4259-9af1-b74796901c03",
   "metadata": {},
   "outputs": [],
   "source": []
  },
  {
   "cell_type": "code",
   "execution_count": 36,
   "id": "30477870-8977-45b4-9680-0db39be0695b",
   "metadata": {},
   "outputs": [
    {
     "ename": "ValueError",
     "evalue": "x must be a label or position",
     "output_type": "error",
     "traceback": [
      "\u001b[1;31m---------------------------------------------------------------------------\u001b[0m",
      "\u001b[1;31mValueError\u001b[0m                                Traceback (most recent call last)",
      "\u001b[1;32m<ipython-input-36-9df9a5dc3c79>\u001b[0m in \u001b[0;36m<module>\u001b[1;34m\u001b[0m\n\u001b[1;32m----> 1\u001b[1;33m \u001b[0mtest_df\u001b[0m\u001b[1;33m.\u001b[0m\u001b[0mgroupby\u001b[0m\u001b[1;33m(\u001b[0m\u001b[1;34m'type_image'\u001b[0m\u001b[1;33m)\u001b[0m\u001b[1;33m.\u001b[0m\u001b[0mplot\u001b[0m\u001b[1;33m.\u001b[0m\u001b[0mbar\u001b[0m\u001b[1;33m(\u001b[0m\u001b[1;33m[\u001b[0m\u001b[1;34m'y_pred'\u001b[0m\u001b[1;33m,\u001b[0m \u001b[1;34m'y_true'\u001b[0m\u001b[1;33m]\u001b[0m\u001b[1;33m,\u001b[0m \u001b[0mlegend\u001b[0m\u001b[1;33m=\u001b[0m\u001b[1;32mTrue\u001b[0m\u001b[1;33m,\u001b[0m \u001b[0mfigsize\u001b[0m\u001b[1;33m=\u001b[0m\u001b[1;33m(\u001b[0m\u001b[1;36m18\u001b[0m\u001b[1;33m,\u001b[0m\u001b[1;36m6\u001b[0m\u001b[1;33m)\u001b[0m\u001b[1;33m)\u001b[0m\u001b[1;33m;\u001b[0m\u001b[1;33m\u001b[0m\u001b[1;33m\u001b[0m\u001b[0m\n\u001b[0m",
      "\u001b[1;32mD:\\Programmes\\Developpement\\Miniconda3\\envs\\ksc\\lib\\site-packages\\pandas\\core\\groupby\\groupby.py\u001b[0m in \u001b[0;36mattr\u001b[1;34m(*args, **kwargs)\u001b[0m\n\u001b[0;32m    471\u001b[0m                 \u001b[1;32mreturn\u001b[0m \u001b[0mgetattr\u001b[0m\u001b[1;33m(\u001b[0m\u001b[0mself\u001b[0m\u001b[1;33m.\u001b[0m\u001b[0mplot\u001b[0m\u001b[1;33m,\u001b[0m \u001b[0mname\u001b[0m\u001b[1;33m)\u001b[0m\u001b[1;33m(\u001b[0m\u001b[1;33m*\u001b[0m\u001b[0margs\u001b[0m\u001b[1;33m,\u001b[0m \u001b[1;33m**\u001b[0m\u001b[0mkwargs\u001b[0m\u001b[1;33m)\u001b[0m\u001b[1;33m\u001b[0m\u001b[1;33m\u001b[0m\u001b[0m\n\u001b[0;32m    472\u001b[0m \u001b[1;33m\u001b[0m\u001b[0m\n\u001b[1;32m--> 473\u001b[1;33m             \u001b[1;32mreturn\u001b[0m \u001b[0mself\u001b[0m\u001b[1;33m.\u001b[0m\u001b[0m_groupby\u001b[0m\u001b[1;33m.\u001b[0m\u001b[0mapply\u001b[0m\u001b[1;33m(\u001b[0m\u001b[0mf\u001b[0m\u001b[1;33m)\u001b[0m\u001b[1;33m\u001b[0m\u001b[1;33m\u001b[0m\u001b[0m\n\u001b[0m\u001b[0;32m    474\u001b[0m \u001b[1;33m\u001b[0m\u001b[0m\n\u001b[0;32m    475\u001b[0m         \u001b[1;32mreturn\u001b[0m \u001b[0mattr\u001b[0m\u001b[1;33m\u001b[0m\u001b[1;33m\u001b[0m\u001b[0m\n",
      "\u001b[1;32mD:\\Programmes\\Developpement\\Miniconda3\\envs\\ksc\\lib\\site-packages\\pandas\\core\\groupby\\groupby.py\u001b[0m in \u001b[0;36mapply\u001b[1;34m(self, func, *args, **kwargs)\u001b[0m\n\u001b[0;32m    892\u001b[0m         \u001b[1;32mwith\u001b[0m \u001b[0moption_context\u001b[0m\u001b[1;33m(\u001b[0m\u001b[1;34m\"mode.chained_assignment\"\u001b[0m\u001b[1;33m,\u001b[0m \u001b[1;32mNone\u001b[0m\u001b[1;33m)\u001b[0m\u001b[1;33m:\u001b[0m\u001b[1;33m\u001b[0m\u001b[1;33m\u001b[0m\u001b[0m\n\u001b[0;32m    893\u001b[0m             \u001b[1;32mtry\u001b[0m\u001b[1;33m:\u001b[0m\u001b[1;33m\u001b[0m\u001b[1;33m\u001b[0m\u001b[0m\n\u001b[1;32m--> 894\u001b[1;33m                 \u001b[0mresult\u001b[0m \u001b[1;33m=\u001b[0m \u001b[0mself\u001b[0m\u001b[1;33m.\u001b[0m\u001b[0m_python_apply_general\u001b[0m\u001b[1;33m(\u001b[0m\u001b[0mf\u001b[0m\u001b[1;33m,\u001b[0m \u001b[0mself\u001b[0m\u001b[1;33m.\u001b[0m\u001b[0m_selected_obj\u001b[0m\u001b[1;33m)\u001b[0m\u001b[1;33m\u001b[0m\u001b[1;33m\u001b[0m\u001b[0m\n\u001b[0m\u001b[0;32m    895\u001b[0m             \u001b[1;32mexcept\u001b[0m \u001b[0mTypeError\u001b[0m\u001b[1;33m:\u001b[0m\u001b[1;33m\u001b[0m\u001b[1;33m\u001b[0m\u001b[0m\n\u001b[0;32m    896\u001b[0m                 \u001b[1;31m# gh-20949\u001b[0m\u001b[1;33m\u001b[0m\u001b[1;33m\u001b[0m\u001b[1;33m\u001b[0m\u001b[0m\n",
      "\u001b[1;32mD:\\Programmes\\Developpement\\Miniconda3\\envs\\ksc\\lib\\site-packages\\pandas\\core\\groupby\\groupby.py\u001b[0m in \u001b[0;36m_python_apply_general\u001b[1;34m(self, f, data)\u001b[0m\n\u001b[0;32m    926\u001b[0m             \u001b[0mdata\u001b[0m \u001b[0mafter\u001b[0m \u001b[0mapplying\u001b[0m \u001b[0mf\u001b[0m\u001b[1;33m\u001b[0m\u001b[1;33m\u001b[0m\u001b[0m\n\u001b[0;32m    927\u001b[0m         \"\"\"\n\u001b[1;32m--> 928\u001b[1;33m         \u001b[0mkeys\u001b[0m\u001b[1;33m,\u001b[0m \u001b[0mvalues\u001b[0m\u001b[1;33m,\u001b[0m \u001b[0mmutated\u001b[0m \u001b[1;33m=\u001b[0m \u001b[0mself\u001b[0m\u001b[1;33m.\u001b[0m\u001b[0mgrouper\u001b[0m\u001b[1;33m.\u001b[0m\u001b[0mapply\u001b[0m\u001b[1;33m(\u001b[0m\u001b[0mf\u001b[0m\u001b[1;33m,\u001b[0m \u001b[0mdata\u001b[0m\u001b[1;33m,\u001b[0m \u001b[0mself\u001b[0m\u001b[1;33m.\u001b[0m\u001b[0maxis\u001b[0m\u001b[1;33m)\u001b[0m\u001b[1;33m\u001b[0m\u001b[1;33m\u001b[0m\u001b[0m\n\u001b[0m\u001b[0;32m    929\u001b[0m \u001b[1;33m\u001b[0m\u001b[0m\n\u001b[0;32m    930\u001b[0m         return self._wrap_applied_output(\n",
      "\u001b[1;32mD:\\Programmes\\Developpement\\Miniconda3\\envs\\ksc\\lib\\site-packages\\pandas\\core\\groupby\\ops.py\u001b[0m in \u001b[0;36mapply\u001b[1;34m(self, f, data, axis)\u001b[0m\n\u001b[0;32m    236\u001b[0m             \u001b[1;31m# group might be modified\u001b[0m\u001b[1;33m\u001b[0m\u001b[1;33m\u001b[0m\u001b[1;33m\u001b[0m\u001b[0m\n\u001b[0;32m    237\u001b[0m             \u001b[0mgroup_axes\u001b[0m \u001b[1;33m=\u001b[0m \u001b[0mgroup\u001b[0m\u001b[1;33m.\u001b[0m\u001b[0maxes\u001b[0m\u001b[1;33m\u001b[0m\u001b[1;33m\u001b[0m\u001b[0m\n\u001b[1;32m--> 238\u001b[1;33m             \u001b[0mres\u001b[0m \u001b[1;33m=\u001b[0m \u001b[0mf\u001b[0m\u001b[1;33m(\u001b[0m\u001b[0mgroup\u001b[0m\u001b[1;33m)\u001b[0m\u001b[1;33m\u001b[0m\u001b[1;33m\u001b[0m\u001b[0m\n\u001b[0m\u001b[0;32m    239\u001b[0m             \u001b[1;32mif\u001b[0m \u001b[1;32mnot\u001b[0m \u001b[0m_is_indexed_like\u001b[0m\u001b[1;33m(\u001b[0m\u001b[0mres\u001b[0m\u001b[1;33m,\u001b[0m \u001b[0mgroup_axes\u001b[0m\u001b[1;33m,\u001b[0m \u001b[0maxis\u001b[0m\u001b[1;33m)\u001b[0m\u001b[1;33m:\u001b[0m\u001b[1;33m\u001b[0m\u001b[1;33m\u001b[0m\u001b[0m\n\u001b[0;32m    240\u001b[0m                 \u001b[0mmutated\u001b[0m \u001b[1;33m=\u001b[0m \u001b[1;32mTrue\u001b[0m\u001b[1;33m\u001b[0m\u001b[1;33m\u001b[0m\u001b[0m\n",
      "\u001b[1;32mD:\\Programmes\\Developpement\\Miniconda3\\envs\\ksc\\lib\\site-packages\\pandas\\core\\groupby\\groupby.py\u001b[0m in \u001b[0;36mf\u001b[1;34m(self)\u001b[0m\n\u001b[0;32m    469\u001b[0m         \u001b[1;32mdef\u001b[0m \u001b[0mattr\u001b[0m\u001b[1;33m(\u001b[0m\u001b[1;33m*\u001b[0m\u001b[0margs\u001b[0m\u001b[1;33m,\u001b[0m \u001b[1;33m**\u001b[0m\u001b[0mkwargs\u001b[0m\u001b[1;33m)\u001b[0m\u001b[1;33m:\u001b[0m\u001b[1;33m\u001b[0m\u001b[1;33m\u001b[0m\u001b[0m\n\u001b[0;32m    470\u001b[0m             \u001b[1;32mdef\u001b[0m \u001b[0mf\u001b[0m\u001b[1;33m(\u001b[0m\u001b[0mself\u001b[0m\u001b[1;33m)\u001b[0m\u001b[1;33m:\u001b[0m\u001b[1;33m\u001b[0m\u001b[1;33m\u001b[0m\u001b[0m\n\u001b[1;32m--> 471\u001b[1;33m                 \u001b[1;32mreturn\u001b[0m \u001b[0mgetattr\u001b[0m\u001b[1;33m(\u001b[0m\u001b[0mself\u001b[0m\u001b[1;33m.\u001b[0m\u001b[0mplot\u001b[0m\u001b[1;33m,\u001b[0m \u001b[0mname\u001b[0m\u001b[1;33m)\u001b[0m\u001b[1;33m(\u001b[0m\u001b[1;33m*\u001b[0m\u001b[0margs\u001b[0m\u001b[1;33m,\u001b[0m \u001b[1;33m**\u001b[0m\u001b[0mkwargs\u001b[0m\u001b[1;33m)\u001b[0m\u001b[1;33m\u001b[0m\u001b[1;33m\u001b[0m\u001b[0m\n\u001b[0m\u001b[0;32m    472\u001b[0m \u001b[1;33m\u001b[0m\u001b[0m\n\u001b[0;32m    473\u001b[0m             \u001b[1;32mreturn\u001b[0m \u001b[0mself\u001b[0m\u001b[1;33m.\u001b[0m\u001b[0m_groupby\u001b[0m\u001b[1;33m.\u001b[0m\u001b[0mapply\u001b[0m\u001b[1;33m(\u001b[0m\u001b[0mf\u001b[0m\u001b[1;33m)\u001b[0m\u001b[1;33m\u001b[0m\u001b[1;33m\u001b[0m\u001b[0m\n",
      "\u001b[1;32mD:\\Programmes\\Developpement\\Miniconda3\\envs\\ksc\\lib\\site-packages\\pandas\\plotting\\_core.py\u001b[0m in \u001b[0;36mbar\u001b[1;34m(self, x, y, **kwargs)\u001b[0m\n\u001b[0;32m   1111\u001b[0m         \u001b[0mother\u001b[0m \u001b[0maxis\u001b[0m \u001b[0mrepresents\u001b[0m \u001b[0ma\u001b[0m \u001b[0mmeasured\u001b[0m \u001b[0mvalue\u001b[0m\u001b[1;33m.\u001b[0m\u001b[1;33m\u001b[0m\u001b[1;33m\u001b[0m\u001b[0m\n\u001b[0;32m   1112\u001b[0m         \"\"\"\n\u001b[1;32m-> 1113\u001b[1;33m         \u001b[1;32mreturn\u001b[0m \u001b[0mself\u001b[0m\u001b[1;33m(\u001b[0m\u001b[0mkind\u001b[0m\u001b[1;33m=\u001b[0m\u001b[1;34m\"bar\"\u001b[0m\u001b[1;33m,\u001b[0m \u001b[0mx\u001b[0m\u001b[1;33m=\u001b[0m\u001b[0mx\u001b[0m\u001b[1;33m,\u001b[0m \u001b[0my\u001b[0m\u001b[1;33m=\u001b[0m\u001b[0my\u001b[0m\u001b[1;33m,\u001b[0m \u001b[1;33m**\u001b[0m\u001b[0mkwargs\u001b[0m\u001b[1;33m)\u001b[0m\u001b[1;33m\u001b[0m\u001b[1;33m\u001b[0m\u001b[0m\n\u001b[0m\u001b[0;32m   1114\u001b[0m \u001b[1;33m\u001b[0m\u001b[0m\n\u001b[0;32m   1115\u001b[0m     @Appender(\n",
      "\u001b[1;32mD:\\Programmes\\Developpement\\Miniconda3\\envs\\ksc\\lib\\site-packages\\pandas\\plotting\\_core.py\u001b[0m in \u001b[0;36m__call__\u001b[1;34m(self, *args, **kwargs)\u001b[0m\n\u001b[0;32m    919\u001b[0m                     \u001b[0mx\u001b[0m \u001b[1;33m=\u001b[0m \u001b[0mdata_cols\u001b[0m\u001b[1;33m[\u001b[0m\u001b[0mx\u001b[0m\u001b[1;33m]\u001b[0m\u001b[1;33m\u001b[0m\u001b[1;33m\u001b[0m\u001b[0m\n\u001b[0;32m    920\u001b[0m                 \u001b[1;32melif\u001b[0m \u001b[1;32mnot\u001b[0m \u001b[0misinstance\u001b[0m\u001b[1;33m(\u001b[0m\u001b[0mdata\u001b[0m\u001b[1;33m[\u001b[0m\u001b[0mx\u001b[0m\u001b[1;33m]\u001b[0m\u001b[1;33m,\u001b[0m \u001b[0mABCSeries\u001b[0m\u001b[1;33m)\u001b[0m\u001b[1;33m:\u001b[0m\u001b[1;33m\u001b[0m\u001b[1;33m\u001b[0m\u001b[0m\n\u001b[1;32m--> 921\u001b[1;33m                     \u001b[1;32mraise\u001b[0m \u001b[0mValueError\u001b[0m\u001b[1;33m(\u001b[0m\u001b[1;34m\"x must be a label or position\"\u001b[0m\u001b[1;33m)\u001b[0m\u001b[1;33m\u001b[0m\u001b[1;33m\u001b[0m\u001b[0m\n\u001b[0m\u001b[0;32m    922\u001b[0m                 \u001b[0mdata\u001b[0m \u001b[1;33m=\u001b[0m \u001b[0mdata\u001b[0m\u001b[1;33m.\u001b[0m\u001b[0mset_index\u001b[0m\u001b[1;33m(\u001b[0m\u001b[0mx\u001b[0m\u001b[1;33m)\u001b[0m\u001b[1;33m\u001b[0m\u001b[1;33m\u001b[0m\u001b[0m\n\u001b[0;32m    923\u001b[0m             \u001b[1;32mif\u001b[0m \u001b[0my\u001b[0m \u001b[1;32mis\u001b[0m \u001b[1;32mnot\u001b[0m \u001b[1;32mNone\u001b[0m\u001b[1;33m:\u001b[0m\u001b[1;33m\u001b[0m\u001b[1;33m\u001b[0m\u001b[0m\n",
      "\u001b[1;31mValueError\u001b[0m: x must be a label or position"
     ]
    }
   ],
   "source": [
    "test_df.groupby('type_image').plot.bar(['y_pred', 'y_true'], legend=True, figsize=(18,6));"
   ]
  },
  {
   "cell_type": "code",
   "execution_count": null,
   "id": "99f534a5-9998-4304-a6a2-363c63a03422",
   "metadata": {},
   "outputs": [],
   "source": [
    "def create_classifier(input_shape, layers, nb_classes):\n",
    "    X = tf.keras.Input(shape=input_shape)\n",
    "    \n",
    "    processing = X\n",
    "    for layer in layers:\n",
    "        if type(layer) is int:\n",
    "            processing = tf.keras.layers.Dense(layer, activation='relu')"
   ]
  }
 ],
 "metadata": {
  "kernelspec": {
   "display_name": "Python 3",
   "language": "python",
   "name": "python3"
  },
  "language_info": {
   "codemirror_mode": {
    "name": "ipython",
    "version": 3
   },
   "file_extension": ".py",
   "mimetype": "text/x-python",
   "name": "python",
   "nbconvert_exporter": "python",
   "pygments_lexer": "ipython3",
   "version": "3.8.8"
  }
 },
 "nbformat": 4,
 "nbformat_minor": 5
}
