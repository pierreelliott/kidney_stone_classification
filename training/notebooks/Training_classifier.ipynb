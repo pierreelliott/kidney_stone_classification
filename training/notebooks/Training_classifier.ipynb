{
 "cells": [
  {
   "cell_type": "code",
   "execution_count": 31,
   "id": "37ead5eb-27e2-4717-9562-e13ee36955e6",
   "metadata": {},
   "outputs": [],
   "source": [
    "import os\n",
    "# import re\n",
    "\n",
    "import pandas as pd\n",
    "# import skimage as ski\n",
    "import numpy as np\n",
    "# import tensorflow as tf\n",
    "import matplotlib.pyplot as plt\n",
    "from sklearn.neural_network import MLPClassifier\n",
    "from sklearn.metrics import classification_report\n",
    "from sklearn.model_selection import StratifiedKFold\n",
    "\n",
    "# tf.test.is_gpu_available()"
   ]
  },
  {
   "cell_type": "code",
   "execution_count": 2,
   "id": "0351ce5d-3010-43eb-a08e-ee01f7d1be5a",
   "metadata": {
    "tags": []
   },
   "outputs": [],
   "source": [
    "def path(text):\n",
    "    return os.path.join(*text.split(\"/\"))\n",
    "\n",
    "def annotate(ax):\n",
    "    for p in ax.patches:\n",
    "        ax.annotate(str(p.get_height()), (p.get_x() + p.get_width() / 2, p.get_height() / 2 - 1),\n",
    "                    ha='center', va='bottom', bbox={'color': 'white'})"
   ]
  },
  {
   "cell_type": "markdown",
   "id": "82418ae8-8228-4f44-a7cb-984980276a73",
   "metadata": {},
   "source": [
    "# Parameters"
   ]
  },
  {
   "cell_type": "code",
   "execution_count": 32,
   "id": "25bce5ef-13b9-4150-90aa-80ca3aada616",
   "metadata": {},
   "outputs": [],
   "source": [
    "DATASET_PATH = path(\"../dataset.csv\")\n",
    "KS_IMAGES_PATH = path(\"../../../ksc-data/images\")\n",
    "FEATURES_PATH = path(\"../features/old.vgg19.npy\")\n",
    "\n",
    "SEED = 42\n",
    "NKFOLD = 10\n",
    "TRAIN_TEST_SPLIT_SIZE = 0.7\n",
    "CLASSES = ['Ia', 'IIb', 'IIIb']\n",
    "# CLASSES = None\n",
    "WITH_OTHER = True  # If True, kidney stones which don't fall into preceding 'CLASSES' will be put in an 'Other' class\n",
    "\n",
    "BATCH_SIZE = 64"
   ]
  },
  {
   "cell_type": "markdown",
   "id": "6a7fce66-ffc3-4605-9281-c39c81fbdd20",
   "metadata": {},
   "source": [
    "# Dataset loading"
   ]
  },
  {
   "cell_type": "code",
   "execution_count": 4,
   "id": "a9967b08-99d2-4826-8f46-3229cd4f2c82",
   "metadata": {},
   "outputs": [],
   "source": [
    "df = pd.read_csv(DATASET_PATH)"
   ]
  },
  {
   "cell_type": "code",
   "execution_count": 5,
   "id": "fc9fb748-7990-4e76-82f3-c72008960dd4",
   "metadata": {},
   "outputs": [],
   "source": [
    "POTENTIAL_CLASSES = df.stone_class.unique().tolist()\n",
    "if CLASSES is None:\n",
    "    CLASSES = POTENTIAL_CLASSES\n",
    "    WITH_OTHER = False\n",
    "    \n",
    "LABELS = list(CLASSES)\n",
    "if WITH_OTHER and not (CLASSES == POTENTIAL_CLASSES):\n",
    "    LABELS += ['Other']"
   ]
  },
  {
   "cell_type": "code",
   "execution_count": 6,
   "id": "86efa6eb-4fa4-4004-9d68-f991294524ba",
   "metadata": {},
   "outputs": [],
   "source": [
    "df['type_image'] = df.SEC.map(lambda x: 'SEC' if x else 'SUR')"
   ]
  },
  {
   "cell_type": "code",
   "execution_count": 7,
   "id": "53c188cf-7f4d-4e93-a4aa-b7dee7d63906",
   "metadata": {},
   "outputs": [
    {
     "data": {
      "text/html": [
       "<div>\n",
       "<style scoped>\n",
       "    .dataframe tbody tr th:only-of-type {\n",
       "        vertical-align: middle;\n",
       "    }\n",
       "\n",
       "    .dataframe tbody tr th {\n",
       "        vertical-align: top;\n",
       "    }\n",
       "\n",
       "    .dataframe thead th {\n",
       "        text-align: right;\n",
       "    }\n",
       "</style>\n",
       "<table border=\"1\" class=\"dataframe\">\n",
       "  <thead>\n",
       "    <tr style=\"text-align: right;\">\n",
       "      <th></th>\n",
       "      <th>filename</th>\n",
       "      <th>stone_class</th>\n",
       "      <th>class_level_1</th>\n",
       "      <th>class_level_2</th>\n",
       "      <th>filetype</th>\n",
       "      <th>SUR</th>\n",
       "      <th>SEC</th>\n",
       "      <th>type_image</th>\n",
       "    </tr>\n",
       "  </thead>\n",
       "  <tbody>\n",
       "    <tr>\n",
       "      <th>0</th>\n",
       "      <td>Ia_SEC_1.jpg</td>\n",
       "      <td>Ia</td>\n",
       "      <td>I</td>\n",
       "      <td>a</td>\n",
       "      <td>jpg</td>\n",
       "      <td>False</td>\n",
       "      <td>True</td>\n",
       "      <td>SEC</td>\n",
       "    </tr>\n",
       "    <tr>\n",
       "      <th>1</th>\n",
       "      <td>Ia_SEC_10.jpg</td>\n",
       "      <td>Ia</td>\n",
       "      <td>I</td>\n",
       "      <td>a</td>\n",
       "      <td>jpg</td>\n",
       "      <td>False</td>\n",
       "      <td>True</td>\n",
       "      <td>SEC</td>\n",
       "    </tr>\n",
       "    <tr>\n",
       "      <th>2</th>\n",
       "      <td>Ia_SEC_11.jpg</td>\n",
       "      <td>Ia</td>\n",
       "      <td>I</td>\n",
       "      <td>a</td>\n",
       "      <td>jpg</td>\n",
       "      <td>False</td>\n",
       "      <td>True</td>\n",
       "      <td>SEC</td>\n",
       "    </tr>\n",
       "    <tr>\n",
       "      <th>3</th>\n",
       "      <td>Ia_SEC_12.jpg</td>\n",
       "      <td>Ia</td>\n",
       "      <td>I</td>\n",
       "      <td>a</td>\n",
       "      <td>jpg</td>\n",
       "      <td>False</td>\n",
       "      <td>True</td>\n",
       "      <td>SEC</td>\n",
       "    </tr>\n",
       "    <tr>\n",
       "      <th>4</th>\n",
       "      <td>Ia_SEC_13.jpg</td>\n",
       "      <td>Ia</td>\n",
       "      <td>I</td>\n",
       "      <td>a</td>\n",
       "      <td>jpg</td>\n",
       "      <td>False</td>\n",
       "      <td>True</td>\n",
       "      <td>SEC</td>\n",
       "    </tr>\n",
       "  </tbody>\n",
       "</table>\n",
       "</div>"
      ],
      "text/plain": [
       "        filename stone_class class_level_1 class_level_2 filetype    SUR  \\\n",
       "0   Ia_SEC_1.jpg          Ia             I             a      jpg  False   \n",
       "1  Ia_SEC_10.jpg          Ia             I             a      jpg  False   \n",
       "2  Ia_SEC_11.jpg          Ia             I             a      jpg  False   \n",
       "3  Ia_SEC_12.jpg          Ia             I             a      jpg  False   \n",
       "4  Ia_SEC_13.jpg          Ia             I             a      jpg  False   \n",
       "\n",
       "    SEC type_image  \n",
       "0  True        SEC  \n",
       "1  True        SEC  \n",
       "2  True        SEC  \n",
       "3  True        SEC  \n",
       "4  True        SEC  "
      ]
     },
     "execution_count": 7,
     "metadata": {},
     "output_type": "execute_result"
    }
   ],
   "source": [
    "df.head()"
   ]
  },
  {
   "cell_type": "code",
   "execution_count": 8,
   "id": "99828dca-d7e6-420b-b5c5-b81b27881126",
   "metadata": {},
   "outputs": [],
   "source": [
    "filtered_df = df"
   ]
  },
  {
   "cell_type": "code",
   "execution_count": 9,
   "id": "6e28eee3-c7ab-40d1-877c-08ea21066d83",
   "metadata": {},
   "outputs": [],
   "source": [
    "rng = np.random.default_rng(SEED)\n",
    "indices = filtered_df.index.values\n",
    "rng.shuffle(indices)"
   ]
  },
  {
   "cell_type": "code",
   "execution_count": 10,
   "id": "5ebccf5a-ff04-48c3-8cfb-54e09d9c924d",
   "metadata": {},
   "outputs": [
    {
     "data": {
      "text/plain": [
       "(203, 4, 7, 7, 512)"
      ]
     },
     "execution_count": 10,
     "metadata": {},
     "output_type": "execute_result"
    }
   ],
   "source": [
    "features = np.load(FEATURES_PATH)\n",
    "features.shape"
   ]
  },
  {
   "cell_type": "code",
   "execution_count": 11,
   "id": "96c28186-8f7f-417e-ab64-acf122ab3852",
   "metadata": {},
   "outputs": [],
   "source": [
    "X = features[indices]"
   ]
  },
  {
   "cell_type": "code",
   "execution_count": 12,
   "id": "1d34c8c8-c920-47b3-add9-4d0217739df8",
   "metadata": {},
   "outputs": [],
   "source": [
    "def classes_mapper(y):\n",
    "    try:\n",
    "        return CLASSES.index(y)\n",
    "    except Exception as e:\n",
    "        if WITH_OTHER:\n",
    "            return len(CLASSES)\n",
    "        raise e"
   ]
  },
  {
   "cell_type": "code",
   "execution_count": 13,
   "id": "26462d46-2f73-49a1-a1f5-8d4c4926671d",
   "metadata": {},
   "outputs": [],
   "source": [
    "def inverse_class_mapper(pred):\n",
    "    return (CLASSES + ['Other'] if WITH_OTHER else CLASSES)[pred]"
   ]
  },
  {
   "cell_type": "code",
   "execution_count": 14,
   "id": "3aa75443-4884-453a-993c-1a458a48ce7a",
   "metadata": {},
   "outputs": [],
   "source": [
    "shuffled_df = pd.DataFrame(filtered_df.iloc[indices])"
   ]
  },
  {
   "cell_type": "code",
   "execution_count": 15,
   "id": "d64f9429-ddef-446d-8c94-f5540ea64c2c",
   "metadata": {},
   "outputs": [],
   "source": [
    "shuffled_df['class_number'] = shuffled_df.stone_class.map(classes_mapper)"
   ]
  },
  {
   "cell_type": "code",
   "execution_count": 98,
   "id": "23eea9de-e7ae-4997-9d95-dc0175e5c52a",
   "metadata": {},
   "outputs": [
    {
     "data": {
      "text/plain": [
       "class_number\n",
       "0    54\n",
       "1    28\n",
       "2    32\n",
       "3    89\n",
       "Name: filename, dtype: int64"
      ]
     },
     "execution_count": 98,
     "metadata": {},
     "output_type": "execute_result"
    }
   ],
   "source": [
    "shuffled_df.groupby('class_number').count().filename"
   ]
  },
  {
   "cell_type": "code",
   "execution_count": 16,
   "id": "7140fbd7-25b8-4b7c-a8ad-8dfbe19a3c55",
   "metadata": {},
   "outputs": [],
   "source": [
    "Y = shuffled_df.class_number.values"
   ]
  },
  {
   "cell_type": "code",
   "execution_count": 17,
   "id": "7d25dcd4-bf73-45e2-a249-f59fd243bf66",
   "metadata": {},
   "outputs": [
    {
     "name": "stdout",
     "output_type": "stream",
     "text": [
      "[3 0 3 0 0 0 3 3 3 3 0 3 1 0 2 3 3 0 3 0 2 3 3 2 3 1 0 3 3 3 3 3 3 0 0 1 3\n",
      " 2 3 1 3 0 0 0 3 3 1 0 3 1 1 1 1 0 2 2 3 1 0 1 0 0 2 3 3 1 3 3 0 0 3 0 3 2\n",
      " 0 3 1 3 3 3 0 2 3 3 0 3 2 0 1 2 0 3 2 3 2 3 2 2 1 3 3 1 0 1 1 3 0 3 3 2 2\n",
      " 3 3 3 3 1 1 3 2 0 2 1 1 1 3 3 3 3 1 3 3 3 2 3 2 3 2 0 2 2 3 0 0 2 0 3 0 3\n",
      " 3 0 3 3 2 3 1 3 0 2 0 3 3 3 3 3 0 3 3 0 3 1 2 0 0 0 3 0 0 3 0 3 0 0 1 3 2\n",
      " 3 0 3 0 0 3 3 0 3 2 3 0 2 3 0 1 3 2]\n"
     ]
    }
   ],
   "source": [
    "print(Y)"
   ]
  },
  {
   "cell_type": "markdown",
   "id": "ca6bee6f-9a76-40b2-b956-e53262365248",
   "metadata": {},
   "source": [
    "# Dataset spliting"
   ]
  },
  {
   "cell_type": "code",
   "execution_count": 43,
   "id": "5e4d3104-045c-45b2-8c90-7291c5928cca",
   "metadata": {},
   "outputs": [],
   "source": [
    "skf = StratifiedKFold(n_splits=NKFOLD)"
   ]
  },
  {
   "cell_type": "code",
   "execution_count": 94,
   "id": "708af498-6a6b-4926-96e0-df8482967236",
   "metadata": {},
   "outputs": [],
   "source": [
    "train_indices, test_indices = next(skf.split(np.zeros(Y.shape), Y))"
   ]
  },
  {
   "cell_type": "code",
   "execution_count": 48,
   "id": "600134b2-6a9c-4e15-9a47-36d2534bb726",
   "metadata": {},
   "outputs": [
    {
     "data": {
      "image/png": "[encoded data removed]",
      "text/plain": [
       "<Figure size 864x576 with 2 Axes>"
      ]
     },
     "metadata": {
      "needs_background": "light"
     },
     "output_type": "display_data"
    }
   ],
   "source": [
    "fig, axes = plt.subplots(figsize=(12, 8), nrows=2)\n",
    "shuffled_df.iloc[train_indices].groupby(['type_image', 'class_number'])\\\n",
    ".count().stone_class.rename({i: v for i, v in enumerate(LABELS)})\\\n",
    ".plot.bar(title='Classes repartition (train set)', rot=0, xlabel='', ax=axes[0]);\n",
    "annotate(axes[0])\n",
    "\n",
    "shuffled_df.iloc[test_indices].groupby(['type_image', 'class_number'])\\\n",
    ".count().stone_class.rename({i: v for i, v in enumerate(LABELS)})\\\n",
    ".plot.bar(title='Classes repartition (test set)', rot=0, xlabel='(Stone type, Stone class)', ax=axes[1]);\n",
    "annotate(axes[1])"
   ]
  },
  {
   "cell_type": "code",
   "execution_count": 26,
   "id": "90fbdfef-b346-4c4a-93e2-a3c6556a786e",
   "metadata": {},
   "outputs": [],
   "source": [
    "fig.savefig(f'dataset_repartition.png')"
   ]
  },
  {
   "cell_type": "code",
   "execution_count": 49,
   "id": "25cba9f1-c8a5-4df8-914e-b5f129fd1b03",
   "metadata": {},
   "outputs": [
    {
     "name": "stdout",
     "output_type": "stream",
     "text": [
      "Y_train.shape = (728,)\n",
      "X_train.shape = (728, 25088)\n"
     ]
    }
   ],
   "source": [
    "X_train = X[train_indices]\n",
    "Y_train = Y[train_indices]\n",
    "\n",
    "Y_train = np.reshape(Y_train, (Y_train.shape[0], -1))\n",
    "Y_train = np.repeat(Y_train, X_train.shape[1], axis=-1)\n",
    "Y_train = np.reshape(Y_train, (-1,))\n",
    "print(f\"Y_train.shape = {Y_train.shape}\")\n",
    "\n",
    "X_train = np.reshape(X_train, (-1,) + X_train.shape[2:])\n",
    "X_train = np.reshape(X_train, (X_train.shape[0], -1))\n",
    "print(f\"X_train.shape = {X_train.shape}\")"
   ]
  },
  {
   "cell_type": "code",
   "execution_count": 50,
   "id": "252915d1-0e51-4270-b270-62d12a77303b",
   "metadata": {},
   "outputs": [
    {
     "name": "stdout",
     "output_type": "stream",
     "text": [
      "X_test.shape = (21, 25088)\n",
      "Y_test.shape = (21,)\n"
     ]
    }
   ],
   "source": [
    "X_test = X[test_indices]\n",
    "Y_test = Y[test_indices]\n",
    "\n",
    "X_test = X_test[:, 0, ...]\n",
    "X_test = np.reshape(X_test, (-1,) + X_test.shape[1:])\n",
    "X_test = np.reshape(X_test, (X_test.shape[0], -1))\n",
    "print(f\"X_test.shape = {X_test.shape}\")\n",
    "\n",
    "print(f\"Y_test.shape = {Y_test.shape}\")"
   ]
  },
  {
   "cell_type": "markdown",
   "id": "006a6bec-b56d-4763-9c7b-041ec59aa410",
   "metadata": {},
   "source": [
    "# Model creation"
   ]
  },
  {
   "cell_type": "code",
   "execution_count": 51,
   "id": "768aa7da-8053-4fa3-b0b3-1a8a89ed7580",
   "metadata": {},
   "outputs": [],
   "source": [
    "hidden_layers = (500,)\n",
    "nb_classes = len(LABELS)"
   ]
  },
  {
   "cell_type": "code",
   "execution_count": 52,
   "id": "77fda5b1-5e36-4ec1-b4d9-26ce1b4af3ab",
   "metadata": {},
   "outputs": [],
   "source": [
    "classifier = MLPClassifier(hidden_layers, batch_size=BATCH_SIZE, verbose=True, random_state=SEED, early_stopping=True)"
   ]
  },
  {
   "cell_type": "code",
   "execution_count": 53,
   "id": "6b9645af-cbbc-4c49-8ff9-18410a75b53d",
   "metadata": {},
   "outputs": [
    {
     "name": "stdout",
     "output_type": "stream",
     "text": [
      "Iteration 1, loss = 6.12181278\n",
      "Validation score: 0.876712\n",
      "Iteration 2, loss = 1.03304520\n",
      "Validation score: 0.917808\n",
      "Iteration 3, loss = 0.25500074\n",
      "Validation score: 0.917808\n",
      "Iteration 4, loss = 0.13005135\n",
      "Validation score: 0.945205\n",
      "Iteration 5, loss = 0.03263807\n",
      "Validation score: 0.945205\n",
      "Iteration 6, loss = 0.00101617\n",
      "Validation score: 0.958904\n",
      "Iteration 7, loss = 0.00104374\n",
      "Validation score: 0.958904\n",
      "Iteration 8, loss = 0.00104749\n",
      "Validation score: 0.972603\n",
      "Iteration 9, loss = 0.00102016\n",
      "Validation score: 0.958904\n",
      "Iteration 10, loss = 0.00101566\n",
      "Validation score: 0.958904\n",
      "Iteration 11, loss = 0.00101471\n",
      "Validation score: 0.958904\n",
      "Iteration 12, loss = 0.00101386\n",
      "Validation score: 0.958904\n",
      "Iteration 13, loss = 0.00101335\n",
      "Validation score: 0.958904\n",
      "Iteration 14, loss = 0.00101293\n",
      "Validation score: 0.958904\n",
      "Iteration 15, loss = 0.00101253\n",
      "Validation score: 0.958904\n",
      "Iteration 16, loss = 0.00101215\n",
      "Validation score: 0.958904\n",
      "Iteration 17, loss = 0.00101180\n",
      "Validation score: 0.958904\n",
      "Iteration 18, loss = 0.00101144\n",
      "Validation score: 0.958904\n",
      "Iteration 19, loss = 0.00101111\n",
      "Validation score: 0.958904\n",
      "Validation score did not improve more than tol=0.000100 for 10 consecutive epochs. Stopping.\n"
     ]
    },
    {
     "data": {
      "text/plain": [
       "MLPClassifier(batch_size=64, early_stopping=True, hidden_layer_sizes=(500,),\n",
       "              random_state=42, verbose=True)"
      ]
     },
     "execution_count": 53,
     "metadata": {},
     "output_type": "execute_result"
    }
   ],
   "source": [
    "classifier.fit(X_train, Y_train)"
   ]
  },
  {
   "cell_type": "code",
   "execution_count": 54,
   "id": "fefb37b8-9e2a-4dd2-bb47-5cffc0837a52",
   "metadata": {},
   "outputs": [
    {
     "data": {
      "image/png": "[encoded data removed]",
      "text/plain": [
       "<Figure size 1296x432 with 1 Axes>"
      ]
     },
     "metadata": {
      "needs_background": "light"
     },
     "output_type": "display_data"
    }
   ],
   "source": [
    "plt.figure(figsize=(18,6))\n",
    "xticks = np.arange(classifier.n_iter_) + 1\n",
    "plt.plot(xticks, classifier.loss_curve_);\n",
    "# plt.yscale('log');\n",
    "plt.xticks(xticks);\n",
    "plt.xlabel('Epochs');\n",
    "plt.ylabel('Loss');"
   ]
  },
  {
   "cell_type": "code",
   "execution_count": 55,
   "id": "3af09dac-9f25-43d0-8f9d-c0d46700331e",
   "metadata": {},
   "outputs": [
    {
     "data": {
      "text/plain": [
       "0.9523809523809523"
      ]
     },
     "execution_count": 55,
     "metadata": {},
     "output_type": "execute_result"
    }
   ],
   "source": [
    "classifier.score(X_test, Y_test)"
   ]
  },
  {
   "cell_type": "markdown",
   "id": "9344c3fb-f302-4e4a-817b-93da05f566c2",
   "metadata": {},
   "source": [
    "# Test model performances"
   ]
  },
  {
   "cell_type": "code",
   "execution_count": 56,
   "id": "b53282f5-a0bf-4e65-a28e-3f3661495f3b",
   "metadata": {},
   "outputs": [],
   "source": [
    "Y_pred = classifier.predict(X_test)"
   ]
  },
  {
   "cell_type": "code",
   "execution_count": 57,
   "id": "f9b47ef8-c396-453a-8d14-b8db39f9fce9",
   "metadata": {},
   "outputs": [
    {
     "name": "stdout",
     "output_type": "stream",
     "text": [
      "              precision    recall  f1-score   support\n",
      "\n",
      "          Ia       1.00      1.00      1.00         6\n",
      "         IIb       1.00      1.00      1.00         3\n",
      "        IIIb       1.00      0.67      0.80         3\n",
      "       Other       0.90      1.00      0.95         9\n",
      "\n",
      "    accuracy                           0.95        21\n",
      "   macro avg       0.97      0.92      0.94        21\n",
      "weighted avg       0.96      0.95      0.95        21\n",
      "\n"
     ]
    }
   ],
   "source": [
    "print(classification_report(Y_test, Y_pred, labels=classifier.classes_, target_names=LABELS))"
   ]
  },
  {
   "cell_type": "code",
   "execution_count": 58,
   "id": "96368224-d191-4564-a1d7-1e0e01bf19d8",
   "metadata": {},
   "outputs": [],
   "source": [
    "classification_report_dict = classification_report(Y_test, Y_pred, labels=classifier.classes_, target_names=LABELS, output_dict=True)"
   ]
  },
  {
   "cell_type": "code",
   "execution_count": 60,
   "id": "0300bc47-bb35-4dbf-9046-96e3c5314b86",
   "metadata": {},
   "outputs": [
    {
     "data": {
      "text/html": [
       "<div>\n",
       "<style scoped>\n",
       "    .dataframe tbody tr th:only-of-type {\n",
       "        vertical-align: middle;\n",
       "    }\n",
       "\n",
       "    .dataframe tbody tr th {\n",
       "        vertical-align: top;\n",
       "    }\n",
       "\n",
       "    .dataframe thead th {\n",
       "        text-align: right;\n",
       "    }\n",
       "</style>\n",
       "<table border=\"1\" class=\"dataframe\">\n",
       "  <thead>\n",
       "    <tr style=\"text-align: right;\">\n",
       "      <th></th>\n",
       "      <th>Ia</th>\n",
       "      <th>IIb</th>\n",
       "      <th>IIIb</th>\n",
       "      <th>Other</th>\n",
       "      <th>accuracy</th>\n",
       "      <th>macro avg</th>\n",
       "      <th>weighted avg</th>\n",
       "    </tr>\n",
       "  </thead>\n",
       "  <tbody>\n",
       "    <tr>\n",
       "      <th>precision</th>\n",
       "      <td>1.0</td>\n",
       "      <td>1.0</td>\n",
       "      <td>1.000000</td>\n",
       "      <td>0.900000</td>\n",
       "      <td>0.952381</td>\n",
       "      <td>0.975000</td>\n",
       "      <td>0.957143</td>\n",
       "    </tr>\n",
       "    <tr>\n",
       "      <th>recall</th>\n",
       "      <td>1.0</td>\n",
       "      <td>1.0</td>\n",
       "      <td>0.666667</td>\n",
       "      <td>1.000000</td>\n",
       "      <td>0.952381</td>\n",
       "      <td>0.916667</td>\n",
       "      <td>0.952381</td>\n",
       "    </tr>\n",
       "    <tr>\n",
       "      <th>f1-score</th>\n",
       "      <td>1.0</td>\n",
       "      <td>1.0</td>\n",
       "      <td>0.800000</td>\n",
       "      <td>0.947368</td>\n",
       "      <td>0.952381</td>\n",
       "      <td>0.936842</td>\n",
       "      <td>0.948872</td>\n",
       "    </tr>\n",
       "    <tr>\n",
       "      <th>support</th>\n",
       "      <td>6.0</td>\n",
       "      <td>3.0</td>\n",
       "      <td>3.000000</td>\n",
       "      <td>9.000000</td>\n",
       "      <td>0.952381</td>\n",
       "      <td>21.000000</td>\n",
       "      <td>21.000000</td>\n",
       "    </tr>\n",
       "  </tbody>\n",
       "</table>\n",
       "</div>"
      ],
      "text/plain": [
       "            Ia  IIb      IIIb     Other  accuracy  macro avg  weighted avg\n",
       "precision  1.0  1.0  1.000000  0.900000  0.952381   0.975000      0.957143\n",
       "recall     1.0  1.0  0.666667  1.000000  0.952381   0.916667      0.952381\n",
       "f1-score   1.0  1.0  0.800000  0.947368  0.952381   0.936842      0.948872\n",
       "support    6.0  3.0  3.000000  9.000000  0.952381  21.000000     21.000000"
      ]
     },
     "execution_count": 60,
     "metadata": {},
     "output_type": "execute_result"
    }
   ],
   "source": [
    "pd.DataFrame(classification_report_dict).to_csv()"
   ]
  },
  {
   "cell_type": "code",
   "execution_count": 61,
   "id": "acd232cd-2310-4876-8574-f16e92fecbb3",
   "metadata": {},
   "outputs": [],
   "source": [
    "test_df = pd.DataFrame(shuffled_df.iloc[test_indices])"
   ]
  },
  {
   "cell_type": "code",
   "execution_count": 62,
   "id": "8f5a8512-197f-466d-a924-bdbf6023373f",
   "metadata": {},
   "outputs": [],
   "source": [
    "test_df['y_pred'] = list(map(inverse_class_mapper, Y_pred))\n",
    "test_df['y_true'] = list(map(inverse_class_mapper, Y_test))"
   ]
  },
  {
   "cell_type": "code",
   "execution_count": 63,
   "id": "71614a10-7d1e-45e3-ab9b-f8a52f62adb7",
   "metadata": {},
   "outputs": [],
   "source": [
    "test_df['correct'] = (Y_pred == Y_test).astype('int32')"
   ]
  },
  {
   "cell_type": "code",
   "execution_count": 64,
   "id": "08749155-6e35-4b24-8074-74ee50e4db7b",
   "metadata": {},
   "outputs": [
    {
     "data": {
      "text/html": [
       "<div>\n",
       "<style scoped>\n",
       "    .dataframe tbody tr th:only-of-type {\n",
       "        vertical-align: middle;\n",
       "    }\n",
       "\n",
       "    .dataframe tbody tr th {\n",
       "        vertical-align: top;\n",
       "    }\n",
       "\n",
       "    .dataframe thead th {\n",
       "        text-align: right;\n",
       "    }\n",
       "</style>\n",
       "<table border=\"1\" class=\"dataframe\">\n",
       "  <thead>\n",
       "    <tr style=\"text-align: right;\">\n",
       "      <th></th>\n",
       "      <th>filename</th>\n",
       "      <th>stone_class</th>\n",
       "      <th>class_level_1</th>\n",
       "      <th>class_level_2</th>\n",
       "      <th>filetype</th>\n",
       "      <th>SUR</th>\n",
       "      <th>SEC</th>\n",
       "      <th>type_image</th>\n",
       "      <th>class_number</th>\n",
       "      <th>y_pred</th>\n",
       "      <th>y_true</th>\n",
       "      <th>correct</th>\n",
       "    </tr>\n",
       "  </thead>\n",
       "  <tbody>\n",
       "    <tr>\n",
       "      <th>155</th>\n",
       "      <td>IVa1_SUR_2.png</td>\n",
       "      <td>IVa1</td>\n",
       "      <td>IV</td>\n",
       "      <td>a1</td>\n",
       "      <td>png</td>\n",
       "      <td>True</td>\n",
       "      <td>False</td>\n",
       "      <td>SUR</td>\n",
       "      <td>3</td>\n",
       "      <td>Other</td>\n",
       "      <td>Other</td>\n",
       "      <td>1</td>\n",
       "    </tr>\n",
       "    <tr>\n",
       "      <th>25</th>\n",
       "      <td>Ia_SUR_10.jpg</td>\n",
       "      <td>Ia</td>\n",
       "      <td>I</td>\n",
       "      <td>a</td>\n",
       "      <td>jpg</td>\n",
       "      <td>True</td>\n",
       "      <td>False</td>\n",
       "      <td>SUR</td>\n",
       "      <td>0</td>\n",
       "      <td>Ia</td>\n",
       "      <td>Ia</td>\n",
       "      <td>1</td>\n",
       "    </tr>\n",
       "    <tr>\n",
       "      <th>136</th>\n",
       "      <td>VIa_SUR_4.png</td>\n",
       "      <td>VIa</td>\n",
       "      <td>VI</td>\n",
       "      <td>a</td>\n",
       "      <td>png</td>\n",
       "      <td>True</td>\n",
       "      <td>False</td>\n",
       "      <td>SUR</td>\n",
       "      <td>3</td>\n",
       "      <td>Other</td>\n",
       "      <td>Other</td>\n",
       "      <td>1</td>\n",
       "    </tr>\n",
       "    <tr>\n",
       "      <th>101</th>\n",
       "      <td>Ia_SUR_29.jpg</td>\n",
       "      <td>Ia</td>\n",
       "      <td>I</td>\n",
       "      <td>a</td>\n",
       "      <td>jpg</td>\n",
       "      <td>True</td>\n",
       "      <td>False</td>\n",
       "      <td>SUR</td>\n",
       "      <td>0</td>\n",
       "      <td>Ia</td>\n",
       "      <td>Ia</td>\n",
       "      <td>1</td>\n",
       "    </tr>\n",
       "    <tr>\n",
       "      <th>179</th>\n",
       "      <td>Ia_SUR_21.jpg</td>\n",
       "      <td>Ia</td>\n",
       "      <td>I</td>\n",
       "      <td>a</td>\n",
       "      <td>jpg</td>\n",
       "      <td>True</td>\n",
       "      <td>False</td>\n",
       "      <td>SUR</td>\n",
       "      <td>0</td>\n",
       "      <td>Ia</td>\n",
       "      <td>Ia</td>\n",
       "      <td>1</td>\n",
       "    </tr>\n",
       "    <tr>\n",
       "      <th>114</th>\n",
       "      <td>Ia_SEC_16.jpg</td>\n",
       "      <td>Ia</td>\n",
       "      <td>I</td>\n",
       "      <td>a</td>\n",
       "      <td>jpg</td>\n",
       "      <td>False</td>\n",
       "      <td>True</td>\n",
       "      <td>SEC</td>\n",
       "      <td>0</td>\n",
       "      <td>Ia</td>\n",
       "      <td>Ia</td>\n",
       "      <td>1</td>\n",
       "    </tr>\n",
       "    <tr>\n",
       "      <th>80</th>\n",
       "      <td>IIa_SEC_2.png</td>\n",
       "      <td>IIa</td>\n",
       "      <td>II</td>\n",
       "      <td>a</td>\n",
       "      <td>png</td>\n",
       "      <td>False</td>\n",
       "      <td>True</td>\n",
       "      <td>SEC</td>\n",
       "      <td>3</td>\n",
       "      <td>Other</td>\n",
       "      <td>Other</td>\n",
       "      <td>1</td>\n",
       "    </tr>\n",
       "    <tr>\n",
       "      <th>111</th>\n",
       "      <td>IIIa_SUR_2.png</td>\n",
       "      <td>IIIa</td>\n",
       "      <td>III</td>\n",
       "      <td>a</td>\n",
       "      <td>png</td>\n",
       "      <td>True</td>\n",
       "      <td>False</td>\n",
       "      <td>SUR</td>\n",
       "      <td>3</td>\n",
       "      <td>Other</td>\n",
       "      <td>Other</td>\n",
       "      <td>1</td>\n",
       "    </tr>\n",
       "    <tr>\n",
       "      <th>40</th>\n",
       "      <td>IVa1_SEC_2.png</td>\n",
       "      <td>IVa1</td>\n",
       "      <td>IV</td>\n",
       "      <td>a1</td>\n",
       "      <td>png</td>\n",
       "      <td>False</td>\n",
       "      <td>True</td>\n",
       "      <td>SEC</td>\n",
       "      <td>3</td>\n",
       "      <td>Other</td>\n",
       "      <td>Other</td>\n",
       "      <td>1</td>\n",
       "    </tr>\n",
       "    <tr>\n",
       "      <th>178</th>\n",
       "      <td>Ib_SEC_3.png</td>\n",
       "      <td>Ib</td>\n",
       "      <td>I</td>\n",
       "      <td>b</td>\n",
       "      <td>png</td>\n",
       "      <td>False</td>\n",
       "      <td>True</td>\n",
       "      <td>SEC</td>\n",
       "      <td>3</td>\n",
       "      <td>Other</td>\n",
       "      <td>Other</td>\n",
       "      <td>1</td>\n",
       "    </tr>\n",
       "    <tr>\n",
       "      <th>143</th>\n",
       "      <td>Ia_SEC_28.jpg</td>\n",
       "      <td>Ia</td>\n",
       "      <td>I</td>\n",
       "      <td>a</td>\n",
       "      <td>jpg</td>\n",
       "      <td>False</td>\n",
       "      <td>True</td>\n",
       "      <td>SEC</td>\n",
       "      <td>0</td>\n",
       "      <td>Ia</td>\n",
       "      <td>Ia</td>\n",
       "      <td>1</td>\n",
       "    </tr>\n",
       "    <tr>\n",
       "      <th>181</th>\n",
       "      <td>VIa_SEC_1.png</td>\n",
       "      <td>VIa</td>\n",
       "      <td>VI</td>\n",
       "      <td>a</td>\n",
       "      <td>png</td>\n",
       "      <td>False</td>\n",
       "      <td>True</td>\n",
       "      <td>SEC</td>\n",
       "      <td>3</td>\n",
       "      <td>Other</td>\n",
       "      <td>Other</td>\n",
       "      <td>1</td>\n",
       "    </tr>\n",
       "    <tr>\n",
       "      <th>198</th>\n",
       "      <td>IIb_SUR_6.jpg</td>\n",
       "      <td>IIb</td>\n",
       "      <td>II</td>\n",
       "      <td>b</td>\n",
       "      <td>jpg</td>\n",
       "      <td>True</td>\n",
       "      <td>False</td>\n",
       "      <td>SUR</td>\n",
       "      <td>1</td>\n",
       "      <td>IIb</td>\n",
       "      <td>IIb</td>\n",
       "      <td>1</td>\n",
       "    </tr>\n",
       "    <tr>\n",
       "      <th>166</th>\n",
       "      <td>Ia_SEC_5.jpg</td>\n",
       "      <td>Ia</td>\n",
       "      <td>I</td>\n",
       "      <td>a</td>\n",
       "      <td>jpg</td>\n",
       "      <td>False</td>\n",
       "      <td>True</td>\n",
       "      <td>SEC</td>\n",
       "      <td>0</td>\n",
       "      <td>Ia</td>\n",
       "      <td>Ia</td>\n",
       "      <td>1</td>\n",
       "    </tr>\n",
       "    <tr>\n",
       "      <th>185</th>\n",
       "      <td>IIIb_SUR_7.jpg</td>\n",
       "      <td>IIIb</td>\n",
       "      <td>III</td>\n",
       "      <td>b</td>\n",
       "      <td>jpg</td>\n",
       "      <td>True</td>\n",
       "      <td>False</td>\n",
       "      <td>SUR</td>\n",
       "      <td>2</td>\n",
       "      <td>IIIb</td>\n",
       "      <td>IIIb</td>\n",
       "      <td>1</td>\n",
       "    </tr>\n",
       "    <tr>\n",
       "      <th>97</th>\n",
       "      <td>VIa_SUR_2.png</td>\n",
       "      <td>VIa</td>\n",
       "      <td>VI</td>\n",
       "      <td>a</td>\n",
       "      <td>png</td>\n",
       "      <td>True</td>\n",
       "      <td>False</td>\n",
       "      <td>SUR</td>\n",
       "      <td>3</td>\n",
       "      <td>Other</td>\n",
       "      <td>Other</td>\n",
       "      <td>1</td>\n",
       "    </tr>\n",
       "    <tr>\n",
       "      <th>72</th>\n",
       "      <td>IIIa_SEC_3.png</td>\n",
       "      <td>IIIa</td>\n",
       "      <td>III</td>\n",
       "      <td>a</td>\n",
       "      <td>png</td>\n",
       "      <td>False</td>\n",
       "      <td>True</td>\n",
       "      <td>SEC</td>\n",
       "      <td>3</td>\n",
       "      <td>Other</td>\n",
       "      <td>Other</td>\n",
       "      <td>1</td>\n",
       "    </tr>\n",
       "    <tr>\n",
       "      <th>122</th>\n",
       "      <td>IIIb_SUR_5.jpg</td>\n",
       "      <td>IIIb</td>\n",
       "      <td>III</td>\n",
       "      <td>b</td>\n",
       "      <td>jpg</td>\n",
       "      <td>True</td>\n",
       "      <td>False</td>\n",
       "      <td>SUR</td>\n",
       "      <td>2</td>\n",
       "      <td>IIIb</td>\n",
       "      <td>IIIb</td>\n",
       "      <td>1</td>\n",
       "    </tr>\n",
       "    <tr>\n",
       "      <th>150</th>\n",
       "      <td>IIIb_SUR_1.jpg</td>\n",
       "      <td>IIIb</td>\n",
       "      <td>III</td>\n",
       "      <td>b</td>\n",
       "      <td>jpg</td>\n",
       "      <td>True</td>\n",
       "      <td>False</td>\n",
       "      <td>SUR</td>\n",
       "      <td>2</td>\n",
       "      <td>Other</td>\n",
       "      <td>IIIb</td>\n",
       "      <td>0</td>\n",
       "    </tr>\n",
       "    <tr>\n",
       "      <th>18</th>\n",
       "      <td>IIb_SUR_5.jpg</td>\n",
       "      <td>IIb</td>\n",
       "      <td>II</td>\n",
       "      <td>b</td>\n",
       "      <td>jpg</td>\n",
       "      <td>True</td>\n",
       "      <td>False</td>\n",
       "      <td>SUR</td>\n",
       "      <td>1</td>\n",
       "      <td>IIb</td>\n",
       "      <td>IIb</td>\n",
       "      <td>1</td>\n",
       "    </tr>\n",
       "    <tr>\n",
       "      <th>134</th>\n",
       "      <td>IIb_SUR_16.jpg</td>\n",
       "      <td>IIb</td>\n",
       "      <td>II</td>\n",
       "      <td>b</td>\n",
       "      <td>jpg</td>\n",
       "      <td>True</td>\n",
       "      <td>False</td>\n",
       "      <td>SUR</td>\n",
       "      <td>1</td>\n",
       "      <td>IIb</td>\n",
       "      <td>IIb</td>\n",
       "      <td>1</td>\n",
       "    </tr>\n",
       "  </tbody>\n",
       "</table>\n",
       "</div>"
      ],
      "text/plain": [
       "           filename stone_class class_level_1 class_level_2 filetype    SUR  \\\n",
       "155  IVa1_SUR_2.png        IVa1            IV            a1      png   True   \n",
       "25    Ia_SUR_10.jpg          Ia             I             a      jpg   True   \n",
       "136   VIa_SUR_4.png         VIa            VI             a      png   True   \n",
       "101   Ia_SUR_29.jpg          Ia             I             a      jpg   True   \n",
       "179   Ia_SUR_21.jpg          Ia             I             a      jpg   True   \n",
       "114   Ia_SEC_16.jpg          Ia             I             a      jpg  False   \n",
       "80    IIa_SEC_2.png         IIa            II             a      png  False   \n",
       "111  IIIa_SUR_2.png        IIIa           III             a      png   True   \n",
       "40   IVa1_SEC_2.png        IVa1            IV            a1      png  False   \n",
       "178    Ib_SEC_3.png          Ib             I             b      png  False   \n",
       "143   Ia_SEC_28.jpg          Ia             I             a      jpg  False   \n",
       "181   VIa_SEC_1.png         VIa            VI             a      png  False   \n",
       "198   IIb_SUR_6.jpg         IIb            II             b      jpg   True   \n",
       "166    Ia_SEC_5.jpg          Ia             I             a      jpg  False   \n",
       "185  IIIb_SUR_7.jpg        IIIb           III             b      jpg   True   \n",
       "97    VIa_SUR_2.png         VIa            VI             a      png   True   \n",
       "72   IIIa_SEC_3.png        IIIa           III             a      png  False   \n",
       "122  IIIb_SUR_5.jpg        IIIb           III             b      jpg   True   \n",
       "150  IIIb_SUR_1.jpg        IIIb           III             b      jpg   True   \n",
       "18    IIb_SUR_5.jpg         IIb            II             b      jpg   True   \n",
       "134  IIb_SUR_16.jpg         IIb            II             b      jpg   True   \n",
       "\n",
       "       SEC type_image  class_number y_pred y_true  correct  \n",
       "155  False        SUR             3  Other  Other        1  \n",
       "25   False        SUR             0     Ia     Ia        1  \n",
       "136  False        SUR             3  Other  Other        1  \n",
       "101  False        SUR             0     Ia     Ia        1  \n",
       "179  False        SUR             0     Ia     Ia        1  \n",
       "114   True        SEC             0     Ia     Ia        1  \n",
       "80    True        SEC             3  Other  Other        1  \n",
       "111  False        SUR             3  Other  Other        1  \n",
       "40    True        SEC             3  Other  Other        1  \n",
       "178   True        SEC             3  Other  Other        1  \n",
       "143   True        SEC             0     Ia     Ia        1  \n",
       "181   True        SEC             3  Other  Other        1  \n",
       "198  False        SUR             1    IIb    IIb        1  \n",
       "166   True        SEC             0     Ia     Ia        1  \n",
       "185  False        SUR             2   IIIb   IIIb        1  \n",
       "97   False        SUR             3  Other  Other        1  \n",
       "72    True        SEC             3  Other  Other        1  \n",
       "122  False        SUR             2   IIIb   IIIb        1  \n",
       "150  False        SUR             2  Other   IIIb        0  \n",
       "18   False        SUR             1    IIb    IIb        1  \n",
       "134  False        SUR             1    IIb    IIb        1  "
      ]
     },
     "execution_count": 64,
     "metadata": {},
     "output_type": "execute_result"
    }
   ],
   "source": [
    "test_df"
   ]
  },
  {
   "cell_type": "code",
   "execution_count": 83,
   "id": "fea1f3ba-9a94-4259-9af1-b74796901c03",
   "metadata": {},
   "outputs": [
    {
     "data": {
      "image/png": "[encoded data removed]",
      "text/plain": [
       "<Figure size 1080x432 with 2 Axes>"
      ]
     },
     "metadata": {
      "needs_background": "light"
     },
     "output_type": "display_data"
    }
   ],
   "source": [
    "fig, axes = plt.subplots(figsize=(15,6), nrows=2)\n",
    "test_df[test_df.correct == 1].groupby(['type_image', 'y_true']).count().filename.plot.bar(rot=0, ax=axes[0], xlabel='', title='');\n",
    "test_df[test_df.correct == 0].groupby(['type_image', 'y_true']).count().filename.plot.bar(rot=0, ax=axes[1], xlabel='', title='');"
   ]
  },
  {
   "cell_type": "code",
   "execution_count": 82,
   "id": "2b340130-b8d3-4c91-91c5-8c71d22b1f21",
   "metadata": {},
   "outputs": [
    {
     "data": {
      "image/png": "[encoded data removed]",
      "text/plain": [
       "<Figure size 1080x432 with 1 Axes>"
      ]
     },
     "execution_count": 82,
     "metadata": {},
     "output_type": "execute_result"
    }
   ],
   "source": [
    "fig.savefig('')"
   ]
  },
  {
   "cell_type": "code",
   "execution_count": null,
   "id": "547c0f03-07a9-4091-b726-e8aa1acdcd5d",
   "metadata": {},
   "outputs": [],
   "source": []
  },
  {
   "cell_type": "code",
   "execution_count": 85,
   "id": "3428b2fa-e967-4db1-ac91-c0e447d8b5ad",
   "metadata": {},
   "outputs": [],
   "source": [
    "import datetime"
   ]
  },
  {
   "cell_type": "code",
   "execution_count": 92,
   "id": "80bbab95-874e-42c2-8f6f-ca2974b52c61",
   "metadata": {},
   "outputs": [
    {
     "data": {
      "text/plain": [
       "'2021-05-26_15-08-06'"
      ]
     },
     "execution_count": 92,
     "metadata": {},
     "output_type": "execute_result"
    }
   ],
   "source": [
    "datetime.datetime.now().strftime(\"%Y-%m-%d_%H-%M-%S\")"
   ]
  }
 ],
 "metadata": {
  "kernelspec": {
   "display_name": "Python 3",
   "language": "python",
   "name": "python3"
  },
  "language_info": {
   "codemirror_mode": {
    "name": "ipython",
    "version": 3
   },
   "file_extension": ".py",
   "mimetype": "text/x-python",
   "name": "python",
   "nbconvert_exporter": "python",
   "pygments_lexer": "ipython3",
   "version": "3.8.8"
  }
 },
 "nbformat": 4,
 "nbformat_minor": 5
}
