{
 "cells": [
  {
   "cell_type": "markdown",
   "metadata": {},
   "source": [
    "# Classification calculs urinaires\n",
    "**Clément Cottet**\n",
    "\n",
    "On va créer un classifieur pour classifier des images de calculs urinaires. Ces images sont stockés dans le dataset 'dataset_calculs/'. On va donc commencer par récupérer ces images."
   ]
  },
  {
   "cell_type": "code",
   "execution_count": 21,
   "metadata": {},
   "outputs": [
    {
     "name": "stdout",
     "output_type": "stream",
     "text": [
      "(203, 500, 500, 3)\n",
      "(16,)\n",
      "['ia' 'ib' 'ic' 'id' 'ie' 'iia' 'iib' 'iiia' 'iiib' 'iva1' 'iva2' 'ivb'\n",
      " 'ivc' 'ivd' 'va' 'via']\n"
     ]
    }
   ],
   "source": [
    "import os\n",
    "from PIL import Image\n",
    "import numpy as np\n",
    "\n",
    "dataset_root = '/home/jpc/Dev/5A/CODEV_D/dataset/'\n",
    "\n",
    "x = []\n",
    "y = []\n",
    "# Récupération des images et des labels\n",
    "for dirpath, directories, files in os.walk(dataset_root):\n",
    "    for file in files:\n",
    "        if '.jpg' in file or '.png' in file:\n",
    "            img = np.array(Image.open(os.path.join(dirpath, file)).resize((500, 500)))\n",
    "            img = img[:,:,:3] # removing the 4th channel (transparency in png) if present\n",
    "            x.append(img)\n",
    "            label = os.path.basename(file.split('_')[0])\n",
    "            y.append(label.lower())\n",
    "x = np.array(x)\n",
    "y = np.array(y)\n",
    "\n",
    "# Transformation des labels en entier\n",
    "labels = np.unique(y)\n",
    "int_y = []\n",
    "for value in labels:\n",
    "    int_y.append(np.where(labels == value))\n",
    "y = np.array(int_y)\n",
    "y = np.reshape(y, (len(y), ))\n",
    "\n",
    "print(x.shape)\n",
    "print(y.shape)\n",
    "print(labels)"
   ]
  },
  {
   "cell_type": "markdown",
   "metadata": {},
   "source": [
    "Regardons maintenant la distribution des classes de calculs dans le dataset."
   ]
  },
  {
   "cell_type": "code",
   "execution_count": 22,
   "metadata": {},
   "outputs": [
    {
     "name": "stdout",
     "output_type": "stream",
     "text": [
      "0 ia\n",
      "1 ib\n",
      "2 ic\n",
      "3 id\n",
      "4 ie\n",
      "5 iia\n",
      "6 iib\n",
      "7 iiia\n",
      "8 iiib\n",
      "9 iva1\n",
      "10 iva2\n",
      "11 ivb\n",
      "12 ivc\n",
      "13 ivd\n",
      "14 va\n",
      "15 via\n"
     ]
    },
    {
     "data": {
      "image/png": "[encoded data removed]",
      "text/plain": [
       "<Figure size 432x288 with 1 Axes>"
      ]
     },
     "metadata": {
      "needs_background": "light"
     },
     "output_type": "display_data"
    }
   ],
   "source": [
    "import matplotlib.pyplot as plt\n",
    "%matplotlib inline\n",
    "\n",
    "for i, label in enumerate(labels):\n",
    "    print(i, label)\n",
    "    \n",
    "plt.hist(y)\n",
    "plt.show()"
   ]
  },
  {
   "cell_type": "markdown",
   "metadata": {},
   "source": [
    "## Extraction des \"features\" des images\n",
    "On va maintenant utiliser un réseau convolutionnel pré-entraîné (VGG16) sur le dataset 'Imagenet' pour extraire des features des images de calculs à partir des couches convolutionnelles. "
   ]
  },
  {
   "cell_type": "code",
   "execution_count": 3,
   "metadata": {},
   "outputs": [
    {
     "name": "stdout",
     "output_type": "stream",
     "text": [
      "WARNING:tensorflow:From /Library/Frameworks/Python.framework/Versions/3.7/lib/python3.7/site-packages/tensorflow/python/ops/resource_variable_ops.py:435: colocate_with (from tensorflow.python.framework.ops) is deprecated and will be removed in a future version.\n",
      "Instructions for updating:\n",
      "Colocations handled automatically by placer.\n"
     ]
    },
    {
     "data": {
      "text/plain": [
       "(354, 15, 15, 512)"
      ]
     },
     "execution_count": 3,
     "metadata": {},
     "output_type": "execute_result"
    }
   ],
   "source": [
    "from tensorflow.keras.applications import VGG16\n",
    "\n",
    "vgg16 = VGG16(include_top=False, weights='imagenet', input_shape=x[0].shape)\n",
    "features = vgg16.predict(x)\n",
    "features.shape"
   ]
  },
  {
   "cell_type": "markdown",
   "metadata": {},
   "source": [
    "On doit maintenant applatir les sorties des convolutions pour les données à un modèle de machine learning plus classique."
   ]
  },
  {
   "cell_type": "code",
   "execution_count": 4,
   "metadata": {},
   "outputs": [
    {
     "data": {
      "text/plain": [
       "(354, 115200)"
      ]
     },
     "execution_count": 4,
     "metadata": {},
     "output_type": "execute_result"
    }
   ],
   "source": [
    "new_x = []\n",
    "for feature in features:\n",
    "    new_x.append(feature.flatten())\n",
    "x = np.array(new_x)\n",
    "x.shape"
   ]
  },
  {
   "cell_type": "markdown",
   "metadata": {},
   "source": [
    "## Séparation du dataset en test et entraînement\n",
    "On va séparer le dataset en dataset de test et en dataset d'entraînement. Pour cela on commence par mélanger le dataset, puis on va ensuite le séparer en deux parties selon les proportions 70/30."
   ]
  },
  {
   "cell_type": "code",
   "execution_count": 5,
   "metadata": {},
   "outputs": [
    {
     "name": "stdout",
     "output_type": "stream",
     "text": [
      "(246, 115200)\n",
      "(107, 115200)\n"
     ]
    }
   ],
   "source": [
    "# Mélange du dataset\n",
    "shuffled_indices = np.arange(len(x))\n",
    "np.random.shuffle(shuffled_indices)\n",
    "x = x[shuffled_indices]\n",
    "y = y[shuffled_indices]\n",
    "\n",
    "# Séparation en test et entraînement 30/70\n",
    "split_indice = int(0.7 * len(x))\n",
    "x_train = x[:split_indice - 1]\n",
    "y_train = y[:split_indice - 1]\n",
    "x_test = x[split_indice:]\n",
    "y_test = y[split_indice:]\n",
    "print(x_train.shape)\n",
    "print(x_test.shape)"
   ]
  },
  {
   "cell_type": "markdown",
   "metadata": {},
   "source": [
    "## Entraînement\n",
    "On va maintenant entraîner un modèle de machine learning avec les features extraites des images et les labels. Pour cela, on utilise GridSearchCV pour sélectionner les meilleurs paramètres et choisir le meilleur modèle avec de la cross-validation."
   ]
  },
  {
   "cell_type": "code",
   "execution_count": 6,
   "metadata": {},
   "outputs": [
    {
     "name": "stderr",
     "output_type": "stream",
     "text": [
      "/Library/Frameworks/Python.framework/Versions/3.7/lib/python3.7/site-packages/sklearn/model_selection/_search.py:841: DeprecationWarning: The default of the `iid` parameter will change from True to False in version 0.22 and will be removed in 0.24. This will change numeric results when test-set sizes are unequal.\n",
      "  DeprecationWarning)\n"
     ]
    },
    {
     "data": {
      "text/plain": [
       "GridSearchCV(cv=5, error_score='raise-deprecating',\n",
       "       estimator=RandomForestClassifier(bootstrap=True, class_weight=None, criterion='gini',\n",
       "            max_depth=None, max_features='auto', max_leaf_nodes=None,\n",
       "            min_impurity_decrease=0.0, min_impurity_split=None,\n",
       "            min_samples_leaf=1, min_samples_split=2,\n",
       "            min_weight_fraction_leaf=0.0, n_estimators='warn', n_jobs=None,\n",
       "            oob_score=False, random_state=None, verbose=0,\n",
       "            warm_start=False),\n",
       "       fit_params=None, iid='warn', n_jobs=None,\n",
       "       param_grid={'n_estimators': [50, 100, 250], 'max_depth': [25, 50, 100, 500, 1000]},\n",
       "       pre_dispatch='2*n_jobs', refit=True, return_train_score='warn',\n",
       "       scoring=None, verbose=0)"
      ]
     },
     "execution_count": 6,
     "metadata": {},
     "output_type": "execute_result"
    }
   ],
   "source": [
    "from sklearn.ensemble import RandomForestClassifier\n",
    "from sklearn.model_selection import GridSearchCV\n",
    "\n",
    "rf = RandomForestClassifier()\n",
    "param_grid = {\n",
    "    'n_estimators': [50, 100, 250],\n",
    "    'max_depth': [25, 50, 100, 500, 1000]\n",
    "}\n",
    "grid = GridSearchCV(rf, param_grid, cv=5)\n",
    "grid.fit(x_train, y_train)"
   ]
  },
  {
   "cell_type": "code",
   "execution_count": 7,
   "metadata": {},
   "outputs": [
    {
     "name": "stdout",
     "output_type": "stream",
     "text": [
      "{'max_depth': 500, 'n_estimators': 250}\n",
      "0.8739837398373984\n"
     ]
    }
   ],
   "source": [
    "print(grid.best_params_)\n",
    "print(grid.best_score_)"
   ]
  },
  {
   "cell_type": "code",
   "execution_count": 8,
   "metadata": {},
   "outputs": [],
   "source": [
    "model = grid.best_estimator_"
   ]
  },
  {
   "cell_type": "markdown",
   "metadata": {},
   "source": [
    "## Test\n",
    "On peut maintenant tester notre modèle sur les données des test mises de côté."
   ]
  },
  {
   "cell_type": "code",
   "execution_count": 9,
   "metadata": {},
   "outputs": [
    {
     "name": "stdout",
     "output_type": "stream",
     "text": [
      "Test accuracy:  0.9065420560747663\n",
      "F1 score (macro):  0.8919224589886691\n",
      "F1 score (weighted):  0.9062034231560113\n"
     ]
    }
   ],
   "source": [
    "from sklearn.metrics import accuracy_score, f1_score\n",
    "test_predictions = model.predict(x_test)\n",
    "\n",
    "accuracy = accuracy_score(y_test, test_predictions)\n",
    "f1_score_macro = f1_score(y_test, test_predictions, average='macro')\n",
    "f1_score_weighted = f1_score(y_test, test_predictions, average='weighted')\n",
    "print('Test accuracy: ', accuracy)\n",
    "print('F1 score (macro): ', f1_score_macro)\n",
    "print('F1 score (weighted): ', f1_score_weighted)"
   ]
  },
  {
   "cell_type": "code",
   "execution_count": 10,
   "metadata": {},
   "outputs": [
    {
     "name": "stdout",
     "output_type": "stream",
     "text": [
      "Confusion matrix, without normalization\n",
      "[[22  0  0  1]\n",
      " [ 1  5  0  0]\n",
      " [ 1  1 33  5]\n",
      " [ 1  0  0 37]]\n"
     ]
    },
    {
     "data": {
      "image/png": "[encoded data removed]",
      "text/plain": [
       "<Figure size 432x288 with 2 Axes>"
      ]
     },
     "metadata": {
      "needs_background": "light"
     },
     "output_type": "display_data"
    }
   ],
   "source": [
    "from sklearn.metrics import confusion_matrix\n",
    "from sklearn.utils.multiclass import unique_labels\n",
    "\n",
    "def plot_confusion_matrix(y_true, y_pred, classes,\n",
    "                          normalize=False,\n",
    "                          title=None,\n",
    "                          cmap=plt.cm.Blues):\n",
    "    \"\"\"\n",
    "    This function prints and plots the confusion matrix.\n",
    "    Normalization can be applied by setting `normalize=True`.\n",
    "    \"\"\"\n",
    "    if not title:\n",
    "        if normalize:\n",
    "            title = 'Normalized confusion matrix'\n",
    "        else:\n",
    "            title = 'Confusion matrix, without normalization'\n",
    "\n",
    "    # Compute confusion matrix\n",
    "    cm = confusion_matrix(y_true, y_pred)\n",
    "    # Only use the labels that appear in the data\n",
    "    classes = classes[unique_labels(y_true, y_pred)]\n",
    "    if normalize:\n",
    "        cm = cm.astype('float') / cm.sum(axis=1)[:, np.newaxis]\n",
    "        print(\"Normalized confusion matrix\")\n",
    "    else:\n",
    "        print('Confusion matrix, without normalization')\n",
    "\n",
    "    print(cm)\n",
    "\n",
    "    fig, ax = plt.subplots()\n",
    "    im = ax.imshow(cm, interpolation='nearest', cmap=cmap)\n",
    "    ax.figure.colorbar(im, ax=ax)\n",
    "    # We want to show all ticks...\n",
    "    ax.set(xticks=np.arange(cm.shape[1]),\n",
    "           yticks=np.arange(cm.shape[0]),\n",
    "           # ... and label them with the respective list entries\n",
    "           xticklabels=classes, yticklabels=classes,\n",
    "           title=title,\n",
    "           ylabel='True label',\n",
    "           xlabel='Predicted label')\n",
    "\n",
    "    # Rotate the tick labels and set their alignment.\n",
    "    plt.setp(ax.get_xticklabels(), rotation=45, ha=\"right\",\n",
    "             rotation_mode=\"anchor\")\n",
    "\n",
    "    # Loop over data dimensions and create text annotations.\n",
    "    fmt = '.2f' if normalize else 'd'\n",
    "    thresh = cm.max() / 2.\n",
    "    for i in range(cm.shape[0]):\n",
    "        for j in range(cm.shape[1]):\n",
    "            ax.text(j, i, format(cm[i, j], fmt),\n",
    "                    ha=\"center\", va=\"center\",\n",
    "                    color=\"white\" if cm[i, j] > thresh else \"black\")\n",
    "    fig.tight_layout()\n",
    "    return ax\n",
    "\n",
    "plot_confusion_matrix(y_test, test_predictions, labels)\n",
    "plt.show()"
   ]
  },
  {
   "cell_type": "code",
   "execution_count": 11,
   "metadata": {},
   "outputs": [
    {
     "name": "stdout",
     "output_type": "stream",
     "text": [
      "Normalized confusion matrix\n",
      "[[0.95652174 0.         0.         0.04347826]\n",
      " [0.16666667 0.83333333 0.         0.        ]\n",
      " [0.025      0.025      0.825      0.125     ]\n",
      " [0.02631579 0.         0.         0.97368421]]\n"
     ]
    },
    {
     "data": {
      "image/png": "[encoded data removed]",
      "text/plain": [
       "<Figure size 432x288 with 2 Axes>"
      ]
     },
     "metadata": {
      "needs_background": "light"
     },
     "output_type": "display_data"
    }
   ],
   "source": [
    "plot_confusion_matrix(y_test, test_predictions, labels, normalize=True)\n",
    "plt.show()"
   ]
  },
  {
   "cell_type": "markdown",
   "metadata": {},
   "source": [
    "## Sauvegarde\n",
    "Il ne reste plus qu'à sauvegarder le modèle."
   ]
  },
  {
   "cell_type": "code",
   "execution_count": 14,
   "metadata": {},
   "outputs": [
    {
     "data": {
      "text/plain": [
       "['./models/0.907_2019-05-11 11:54:50.466169']"
      ]
     },
     "execution_count": 14,
     "metadata": {},
     "output_type": "execute_result"
    }
   ],
   "source": [
    "import datetime\n",
    "from joblib import dump\n",
    "\n",
    "now = datetime.datetime.now()\n",
    "dump(model, './models/' + '{:1.3f}'.format(accuracy) + '_' + str(now))"
   ]
  },
  {
   "cell_type": "code",
   "execution_count": null,
   "metadata": {},
   "outputs": [],
   "source": []
  }
 ],
 "metadata": {
  "kernelspec": {
   "display_name": "Python 3",
   "language": "python",
   "name": "python3"
  },
  "language_info": {
   "codemirror_mode": {
    "name": "ipython",
    "version": 3
   },
   "file_extension": ".py",
   "mimetype": "text/x-python",
   "name": "python",
   "nbconvert_exporter": "python",
   "pygments_lexer": "ipython3",
   "version": "3.7.6"
  }
 },
 "nbformat": 4,
 "nbformat_minor": 4
}
