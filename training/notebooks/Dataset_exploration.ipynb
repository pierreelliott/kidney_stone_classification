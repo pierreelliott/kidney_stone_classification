{
 "cells": [
  {
   "cell_type": "code",
   "execution_count": 18,
   "id": "9c96b975-31fa-4110-988c-cd33732fe9ca",
   "metadata": {},
   "outputs": [],
   "source": [
    "import os\n",
    "import re\n",
    "\n",
    "from PIL import Image\n",
    "import pandas as pd\n",
    "import skimage as ski\n",
    "import numpy as np\n",
    "import matplotlib.pyplot as plt"
   ]
  },
  {
   "cell_type": "code",
   "execution_count": 2,
   "id": "53a2eea9-4cfd-44af-b3ff-411a94ded134",
   "metadata": {},
   "outputs": [
    {
     "data": {
      "text/plain": [
       "'D:\\\\Pierre-Elliott\\\\Projets\\\\ksc\\\\training\\\\notebooks'"
      ]
     },
     "execution_count": 2,
     "metadata": {},
     "output_type": "execute_result"
    }
   ],
   "source": [
    "%pwd"
   ]
  },
  {
   "cell_type": "code",
   "execution_count": 3,
   "id": "2ae249e8-334d-4e97-8881-ce739b3beb70",
   "metadata": {},
   "outputs": [],
   "source": [
    "KS_IMAGES_PATH = \"../../../ksc-data/images\"  # By default, in a sibling directory to the current project (ie, <project>/training/notebooks)"
   ]
  },
  {
   "cell_type": "code",
   "execution_count": 4,
   "id": "67931f6d-9e5d-460f-b9f2-d5a03d826e1e",
   "metadata": {},
   "outputs": [],
   "source": [
    "images_list = os.listdir(os.path.join(*KS_IMAGES_PATH.split('/')))"
   ]
  },
  {
   "cell_type": "code",
   "execution_count": 5,
   "id": "04a1cba9-b241-4bf0-a8ff-6d6be6dfa362",
   "metadata": {
    "scrolled": true,
    "tags": []
   },
   "outputs": [],
   "source": [
    "df = pd.DataFrame(images_list, columns=[\"filename\"])"
   ]
  },
  {
   "cell_type": "code",
   "execution_count": 6,
   "id": "b5a575c5-ee51-4391-8ef8-2e11e246af3f",
   "metadata": {},
   "outputs": [
    {
     "data": {
      "text/html": [
       "<div>\n",
       "<style scoped>\n",
       "    .dataframe tbody tr th:only-of-type {\n",
       "        vertical-align: middle;\n",
       "    }\n",
       "\n",
       "    .dataframe tbody tr th {\n",
       "        vertical-align: top;\n",
       "    }\n",
       "\n",
       "    .dataframe thead th {\n",
       "        text-align: right;\n",
       "    }\n",
       "</style>\n",
       "<table border=\"1\" class=\"dataframe\">\n",
       "  <thead>\n",
       "    <tr style=\"text-align: right;\">\n",
       "      <th></th>\n",
       "      <th>filename</th>\n",
       "    </tr>\n",
       "  </thead>\n",
       "  <tbody>\n",
       "    <tr>\n",
       "      <th>0</th>\n",
       "      <td>Ia_SEC_1.jpg</td>\n",
       "    </tr>\n",
       "    <tr>\n",
       "      <th>1</th>\n",
       "      <td>Ia_SEC_10.jpg</td>\n",
       "    </tr>\n",
       "    <tr>\n",
       "      <th>2</th>\n",
       "      <td>Ia_SEC_11.jpg</td>\n",
       "    </tr>\n",
       "    <tr>\n",
       "      <th>3</th>\n",
       "      <td>Ia_SEC_12.jpg</td>\n",
       "    </tr>\n",
       "    <tr>\n",
       "      <th>4</th>\n",
       "      <td>Ia_SEC_13.jpg</td>\n",
       "    </tr>\n",
       "  </tbody>\n",
       "</table>\n",
       "</div>"
      ],
      "text/plain": [
       "        filename\n",
       "0   Ia_SEC_1.jpg\n",
       "1  Ia_SEC_10.jpg\n",
       "2  Ia_SEC_11.jpg\n",
       "3  Ia_SEC_12.jpg\n",
       "4  Ia_SEC_13.jpg"
      ]
     },
     "execution_count": 6,
     "metadata": {},
     "output_type": "execute_result"
    }
   ],
   "source": [
    "df.head()"
   ]
  },
  {
   "cell_type": "code",
   "execution_count": 7,
   "id": "ccad242b-ada9-4205-bf28-5a1fd17784a8",
   "metadata": {},
   "outputs": [],
   "source": [
    "df['stone_class'] = list(map(lambda x: x.split('_')[0], df.filename.values))"
   ]
  },
  {
   "cell_type": "code",
   "execution_count": 8,
   "id": "4ca666bd-986a-43dd-bbd4-8d170d8365de",
   "metadata": {},
   "outputs": [],
   "source": [
    "df['class_level_1'] = list(map(lambda x: re.sub(r'[a-z0-9]', '', x), df.stone_class.values))"
   ]
  },
  {
   "cell_type": "code",
   "execution_count": 9,
   "id": "c0313322-968c-4759-aa9c-bca721173e32",
   "metadata": {},
   "outputs": [],
   "source": [
    "df['class_level_2'] = list(map(lambda x: re.sub(r'[A-Z]', '', x), df.stone_class.values))"
   ]
  },
  {
   "cell_type": "code",
   "execution_count": 10,
   "id": "96d63aa3-540a-40d8-af3d-55c0a2fb4565",
   "metadata": {},
   "outputs": [],
   "source": [
    "df['SUR'] = list(map(lambda x: 'SUR' in x, df.filename.values))\n",
    "df['SEC'] = list(map(lambda x: 'SEC' in x, df.filename.values))"
   ]
  },
  {
   "cell_type": "code",
   "execution_count": 11,
   "id": "2982c149-16d4-4044-aa11-32cd4d1feebb",
   "metadata": {},
   "outputs": [],
   "source": [
    "df['filetype'] = list(map(lambda x: x.split(\".\")[1], df.filename.values))"
   ]
  },
  {
   "cell_type": "code",
   "execution_count": 12,
   "id": "f16f76e9-8a33-4a27-a1fc-69c4af433f3c",
   "metadata": {},
   "outputs": [
    {
     "data": {
      "text/html": [
       "<div>\n",
       "<style scoped>\n",
       "    .dataframe tbody tr th:only-of-type {\n",
       "        vertical-align: middle;\n",
       "    }\n",
       "\n",
       "    .dataframe tbody tr th {\n",
       "        vertical-align: top;\n",
       "    }\n",
       "\n",
       "    .dataframe thead th {\n",
       "        text-align: right;\n",
       "    }\n",
       "</style>\n",
       "<table border=\"1\" class=\"dataframe\">\n",
       "  <thead>\n",
       "    <tr style=\"text-align: right;\">\n",
       "      <th></th>\n",
       "      <th>filename</th>\n",
       "      <th>stone_class</th>\n",
       "      <th>class_level_1</th>\n",
       "      <th>class_level_2</th>\n",
       "      <th>SUR</th>\n",
       "      <th>SEC</th>\n",
       "      <th>filetype</th>\n",
       "    </tr>\n",
       "  </thead>\n",
       "  <tbody>\n",
       "    <tr>\n",
       "      <th>0</th>\n",
       "      <td>Ia_SEC_1.jpg</td>\n",
       "      <td>Ia</td>\n",
       "      <td>I</td>\n",
       "      <td>a</td>\n",
       "      <td>False</td>\n",
       "      <td>True</td>\n",
       "      <td>jpg</td>\n",
       "    </tr>\n",
       "    <tr>\n",
       "      <th>1</th>\n",
       "      <td>Ia_SEC_10.jpg</td>\n",
       "      <td>Ia</td>\n",
       "      <td>I</td>\n",
       "      <td>a</td>\n",
       "      <td>False</td>\n",
       "      <td>True</td>\n",
       "      <td>jpg</td>\n",
       "    </tr>\n",
       "    <tr>\n",
       "      <th>2</th>\n",
       "      <td>Ia_SEC_11.jpg</td>\n",
       "      <td>Ia</td>\n",
       "      <td>I</td>\n",
       "      <td>a</td>\n",
       "      <td>False</td>\n",
       "      <td>True</td>\n",
       "      <td>jpg</td>\n",
       "    </tr>\n",
       "    <tr>\n",
       "      <th>3</th>\n",
       "      <td>Ia_SEC_12.jpg</td>\n",
       "      <td>Ia</td>\n",
       "      <td>I</td>\n",
       "      <td>a</td>\n",
       "      <td>False</td>\n",
       "      <td>True</td>\n",
       "      <td>jpg</td>\n",
       "    </tr>\n",
       "    <tr>\n",
       "      <th>4</th>\n",
       "      <td>Ia_SEC_13.jpg</td>\n",
       "      <td>Ia</td>\n",
       "      <td>I</td>\n",
       "      <td>a</td>\n",
       "      <td>False</td>\n",
       "      <td>True</td>\n",
       "      <td>jpg</td>\n",
       "    </tr>\n",
       "    <tr>\n",
       "      <th>...</th>\n",
       "      <td>...</td>\n",
       "      <td>...</td>\n",
       "      <td>...</td>\n",
       "      <td>...</td>\n",
       "      <td>...</td>\n",
       "      <td>...</td>\n",
       "      <td>...</td>\n",
       "    </tr>\n",
       "    <tr>\n",
       "      <th>198</th>\n",
       "      <td>VIa_SEC_4.png</td>\n",
       "      <td>VIa</td>\n",
       "      <td>VI</td>\n",
       "      <td>a</td>\n",
       "      <td>False</td>\n",
       "      <td>True</td>\n",
       "      <td>png</td>\n",
       "    </tr>\n",
       "    <tr>\n",
       "      <th>199</th>\n",
       "      <td>VIa_SUR_1.png</td>\n",
       "      <td>VIa</td>\n",
       "      <td>VI</td>\n",
       "      <td>a</td>\n",
       "      <td>True</td>\n",
       "      <td>False</td>\n",
       "      <td>png</td>\n",
       "    </tr>\n",
       "    <tr>\n",
       "      <th>200</th>\n",
       "      <td>VIa_SUR_2.png</td>\n",
       "      <td>VIa</td>\n",
       "      <td>VI</td>\n",
       "      <td>a</td>\n",
       "      <td>True</td>\n",
       "      <td>False</td>\n",
       "      <td>png</td>\n",
       "    </tr>\n",
       "    <tr>\n",
       "      <th>201</th>\n",
       "      <td>VIa_SUR_3.png</td>\n",
       "      <td>VIa</td>\n",
       "      <td>VI</td>\n",
       "      <td>a</td>\n",
       "      <td>True</td>\n",
       "      <td>False</td>\n",
       "      <td>png</td>\n",
       "    </tr>\n",
       "    <tr>\n",
       "      <th>202</th>\n",
       "      <td>VIa_SUR_4.png</td>\n",
       "      <td>VIa</td>\n",
       "      <td>VI</td>\n",
       "      <td>a</td>\n",
       "      <td>True</td>\n",
       "      <td>False</td>\n",
       "      <td>png</td>\n",
       "    </tr>\n",
       "  </tbody>\n",
       "</table>\n",
       "<p>203 rows × 7 columns</p>\n",
       "</div>"
      ],
      "text/plain": [
       "          filename stone_class class_level_1 class_level_2    SUR    SEC  \\\n",
       "0     Ia_SEC_1.jpg          Ia             I             a  False   True   \n",
       "1    Ia_SEC_10.jpg          Ia             I             a  False   True   \n",
       "2    Ia_SEC_11.jpg          Ia             I             a  False   True   \n",
       "3    Ia_SEC_12.jpg          Ia             I             a  False   True   \n",
       "4    Ia_SEC_13.jpg          Ia             I             a  False   True   \n",
       "..             ...         ...           ...           ...    ...    ...   \n",
       "198  VIa_SEC_4.png         VIa            VI             a  False   True   \n",
       "199  VIa_SUR_1.png         VIa            VI             a   True  False   \n",
       "200  VIa_SUR_2.png         VIa            VI             a   True  False   \n",
       "201  VIa_SUR_3.png         VIa            VI             a   True  False   \n",
       "202  VIa_SUR_4.png         VIa            VI             a   True  False   \n",
       "\n",
       "    filetype  \n",
       "0        jpg  \n",
       "1        jpg  \n",
       "2        jpg  \n",
       "3        jpg  \n",
       "4        jpg  \n",
       "..       ...  \n",
       "198      png  \n",
       "199      png  \n",
       "200      png  \n",
       "201      png  \n",
       "202      png  \n",
       "\n",
       "[203 rows x 7 columns]"
      ]
     },
     "execution_count": 12,
     "metadata": {},
     "output_type": "execute_result"
    }
   ],
   "source": [
    "df"
   ]
  },
  {
   "cell_type": "code",
   "execution_count": 13,
   "id": "7f33d8b9-7f87-403f-b98f-6441568532fc",
   "metadata": {},
   "outputs": [
    {
     "data": {
      "text/plain": [
       "stone_class\n",
       "Ia      54\n",
       "Ib       8\n",
       "Ic       2\n",
       "Id       8\n",
       "Ie       6\n",
       "IIa      4\n",
       "IIb     28\n",
       "IIIa     6\n",
       "IIIb    32\n",
       "IVa1     8\n",
       "IVa2     3\n",
       "IVb      8\n",
       "IVc      8\n",
       "IVd     10\n",
       "Va      10\n",
       "VIa      8\n",
       "Name: filename, dtype: int64"
      ]
     },
     "execution_count": 13,
     "metadata": {},
     "output_type": "execute_result"
    }
   ],
   "source": [
    "df.groupby('stone_class', sort=False).count().filename"
   ]
  },
  {
   "cell_type": "code",
   "execution_count": 16,
   "id": "69044247-08fe-4071-ae7b-7cf3480f7d79",
   "metadata": {},
   "outputs": [],
   "source": [
    "def annotate(ax):\n",
    "    for p in ax.patches:\n",
    "        ax.annotate(str(p.get_height()), (p.get_x() + p.get_width() / 2, p.get_height()), ha='center', va='bottom')"
   ]
  },
  {
   "cell_type": "code",
   "execution_count": 30,
   "id": "980d9940-4c28-42ff-aaad-52063b7ab423",
   "metadata": {},
   "outputs": [
    {
     "data": {
      "image/png": "[encoded data removed]",
      "text/plain": [
       "<Figure size 720x432 with 1 Axes>"
      ]
     },
     "metadata": {
      "needs_background": "light"
     },
     "output_type": "display_data"
    }
   ],
   "source": [
    "ax = df.groupby('SEC').count().filename.plot.bar(figsize=(10, 6));\n",
    "annotate(ax)"
   ]
  },
  {
   "cell_type": "code",
   "execution_count": 34,
   "id": "71d68fb4-cf7d-4be7-98e4-3bbdcf9eb9ef",
   "metadata": {},
   "outputs": [
    {
     "data": {
      "image/png": "[encoded data removed]",
      "text/plain": [
       "<Figure size 1080x720 with 2 Axes>"
      ]
     },
     "metadata": {
      "needs_background": "light"
     },
     "output_type": "display_data"
    }
   ],
   "source": [
    "fig, axes = plt.subplots(figsize=(15,10), nrows=2)\n",
    "for idx, stone_type in enumerate(['SEC', 'SUR']):\n",
    "    stone_classes_repartition = df[df[stone_type]].groupby('stone_class', sort=False).count().filename\n",
    "    ax = stone_classes_repartition.plot.bar(rot=0, ax=axes[idx], xlabel='')\n",
    "    ax.set_ylabel('Number of occurrences')\n",
    "    ax.set_title(f'Repartition of kidney stone classes ({stone_type})')\n",
    "    annotate(ax)\n",
    "ax.set_xlabel('Kidney stone classes');"
   ]
  },
  {
   "cell_type": "code",
   "execution_count": 110,
   "id": "b3031236-6f89-43b9-812c-8d80699ffa08",
   "metadata": {},
   "outputs": [],
   "source": [
    "df.to_csv(os.path.join(*'../dataset.csv'.split('/')), index=False)"
   ]
  }
 ],
 "metadata": {
  "kernelspec": {
   "display_name": "Python 3",
   "language": "python",
   "name": "python3"
  },
  "language_info": {
   "codemirror_mode": {
    "name": "ipython",
    "version": 3
   },
   "file_extension": ".py",
   "mimetype": "text/x-python",
   "name": "python",
   "nbconvert_exporter": "python",
   "pygments_lexer": "ipython3",
   "version": "3.8.8"
  }
 },
 "nbformat": 4,
 "nbformat_minor": 5
}
