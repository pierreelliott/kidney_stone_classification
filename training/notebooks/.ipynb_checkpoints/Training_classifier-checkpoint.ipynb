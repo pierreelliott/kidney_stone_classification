{
 "cells": [
  {
   "cell_type": "code",
   "execution_count": 102,
   "id": "37ead5eb-27e2-4717-9562-e13ee36955e6",
   "metadata": {},
   "outputs": [
    {
     "data": {
      "text/plain": [
       "True"
      ]
     },
     "execution_count": 102,
     "metadata": {},
     "output_type": "execute_result"
    }
   ],
   "source": [
    "import os\n",
    "import re\n",
    "\n",
    "import pandas as pd\n",
    "import skimage as ski\n",
    "import numpy as np\n",
    "import tensorflow as tf\n",
    "import matplotlib.pyplot as plt\n",
    "from sklearn.neural_network import MLPClassifier\n",
    "from sklearn.metrics import classification_report\n",
    "\n",
    "tf.test.is_gpu_available()"
   ]
  },
  {
   "cell_type": "code",
   "execution_count": 3,
   "id": "0351ce5d-3010-43eb-a08e-ee01f7d1be5a",
   "metadata": {
    "jupyter": {
     "source_hidden": true
    },
    "tags": []
   },
   "outputs": [],
   "source": [
    "def path(text):\n",
    "    return os.path.join(*text.split(\"/\"))"
   ]
  },
  {
   "cell_type": "markdown",
   "id": "82418ae8-8228-4f44-a7cb-984980276a73",
   "metadata": {},
   "source": [
    "# Parameters"
   ]
  },
  {
   "cell_type": "code",
   "execution_count": 77,
   "id": "25bce5ef-13b9-4150-90aa-80ca3aada616",
   "metadata": {},
   "outputs": [],
   "source": [
    "DATASET_PATH = path(\"../dataset.csv\")\n",
    "KS_IMAGES_PATH = path(\"../../../ksc-data/images\")\n",
    "FEATURES_PATH = path(\"../features/old.vgg19.npy\")\n",
    "\n",
    "SEED = 42\n",
    "TRAIN_TEST_SPLIT_SIZE = 0.7\n",
    "CLASSES = ['Ia', 'IIb', 'IIIb']\n",
    "WITH_OTHER = True  # If True, kidney stones which don't fall into preceding 'CLASSES' will be put in an 'Other' class\n",
    "\n",
    "BATCH_SIZE = 64"
   ]
  },
  {
   "cell_type": "markdown",
   "id": "6a7fce66-ffc3-4605-9281-c39c81fbdd20",
   "metadata": {},
   "source": [
    "# Dataset loading"
   ]
  },
  {
   "cell_type": "code",
   "execution_count": 19,
   "id": "a9967b08-99d2-4826-8f46-3229cd4f2c82",
   "metadata": {},
   "outputs": [],
   "source": [
    "df = pd.read_csv(DATASET_PATH)"
   ]
  },
  {
   "cell_type": "code",
   "execution_count": 20,
   "id": "53c188cf-7f4d-4e93-a4aa-b7dee7d63906",
   "metadata": {},
   "outputs": [
    {
     "data": {
      "text/html": [
       "<div>\n",
       "<style scoped>\n",
       "    .dataframe tbody tr th:only-of-type {\n",
       "        vertical-align: middle;\n",
       "    }\n",
       "\n",
       "    .dataframe tbody tr th {\n",
       "        vertical-align: top;\n",
       "    }\n",
       "\n",
       "    .dataframe thead th {\n",
       "        text-align: right;\n",
       "    }\n",
       "</style>\n",
       "<table border=\"1\" class=\"dataframe\">\n",
       "  <thead>\n",
       "    <tr style=\"text-align: right;\">\n",
       "      <th></th>\n",
       "      <th>filename</th>\n",
       "      <th>stone_class</th>\n",
       "      <th>class_level_1</th>\n",
       "      <th>class_level_2</th>\n",
       "      <th>filetype</th>\n",
       "      <th>SUR</th>\n",
       "      <th>SEC</th>\n",
       "    </tr>\n",
       "  </thead>\n",
       "  <tbody>\n",
       "    <tr>\n",
       "      <th>0</th>\n",
       "      <td>Ia_SEC_1.jpg</td>\n",
       "      <td>Ia</td>\n",
       "      <td>I</td>\n",
       "      <td>a</td>\n",
       "      <td>jpg</td>\n",
       "      <td>False</td>\n",
       "      <td>True</td>\n",
       "    </tr>\n",
       "    <tr>\n",
       "      <th>1</th>\n",
       "      <td>Ia_SEC_10.jpg</td>\n",
       "      <td>Ia</td>\n",
       "      <td>I</td>\n",
       "      <td>a</td>\n",
       "      <td>jpg</td>\n",
       "      <td>False</td>\n",
       "      <td>True</td>\n",
       "    </tr>\n",
       "    <tr>\n",
       "      <th>2</th>\n",
       "      <td>Ia_SEC_11.jpg</td>\n",
       "      <td>Ia</td>\n",
       "      <td>I</td>\n",
       "      <td>a</td>\n",
       "      <td>jpg</td>\n",
       "      <td>False</td>\n",
       "      <td>True</td>\n",
       "    </tr>\n",
       "    <tr>\n",
       "      <th>3</th>\n",
       "      <td>Ia_SEC_12.jpg</td>\n",
       "      <td>Ia</td>\n",
       "      <td>I</td>\n",
       "      <td>a</td>\n",
       "      <td>jpg</td>\n",
       "      <td>False</td>\n",
       "      <td>True</td>\n",
       "    </tr>\n",
       "    <tr>\n",
       "      <th>4</th>\n",
       "      <td>Ia_SEC_13.jpg</td>\n",
       "      <td>Ia</td>\n",
       "      <td>I</td>\n",
       "      <td>a</td>\n",
       "      <td>jpg</td>\n",
       "      <td>False</td>\n",
       "      <td>True</td>\n",
       "    </tr>\n",
       "  </tbody>\n",
       "</table>\n",
       "</div>"
      ],
      "text/plain": [
       "        filename stone_class class_level_1 class_level_2 filetype    SUR   SEC\n",
       "0   Ia_SEC_1.jpg          Ia             I             a      jpg  False  True\n",
       "1  Ia_SEC_10.jpg          Ia             I             a      jpg  False  True\n",
       "2  Ia_SEC_11.jpg          Ia             I             a      jpg  False  True\n",
       "3  Ia_SEC_12.jpg          Ia             I             a      jpg  False  True\n",
       "4  Ia_SEC_13.jpg          Ia             I             a      jpg  False  True"
      ]
     },
     "execution_count": 20,
     "metadata": {},
     "output_type": "execute_result"
    }
   ],
   "source": [
    "df.head()"
   ]
  },
  {
   "cell_type": "code",
   "execution_count": 28,
   "id": "99828dca-d7e6-420b-b5c5-b81b27881126",
   "metadata": {},
   "outputs": [],
   "source": [
    "filtered_df = df"
   ]
  },
  {
   "cell_type": "code",
   "execution_count": 40,
   "id": "6e28eee3-c7ab-40d1-877c-08ea21066d83",
   "metadata": {},
   "outputs": [],
   "source": [
    "rng = np.random.default_rng(SEED)\n",
    "indices = filtered_df.index.values\n",
    "rng.shuffle(indices)"
   ]
  },
  {
   "cell_type": "code",
   "execution_count": 30,
   "id": "5ebccf5a-ff04-48c3-8cfb-54e09d9c924d",
   "metadata": {},
   "outputs": [
    {
     "data": {
      "text/plain": [
       "(203, 4, 7, 7, 512)"
      ]
     },
     "execution_count": 30,
     "metadata": {},
     "output_type": "execute_result"
    }
   ],
   "source": [
    "features = np.load(FEATURES_PATH)\n",
    "features.shape"
   ]
  },
  {
   "cell_type": "code",
   "execution_count": 31,
   "id": "96c28186-8f7f-417e-ab64-acf122ab3852",
   "metadata": {},
   "outputs": [],
   "source": [
    "X = features[indices]"
   ]
  },
  {
   "cell_type": "code",
   "execution_count": 48,
   "id": "1d34c8c8-c920-47b3-add9-4d0217739df8",
   "metadata": {},
   "outputs": [],
   "source": [
    "def classes_mapper(y):\n",
    "    try:\n",
    "        return CLASSES.index(y)\n",
    "    except Exception as e:\n",
    "        if WITH_OTHER:\n",
    "            return len(CLASSES)\n",
    "        raise e"
   ]
  },
  {
   "cell_type": "code",
   "execution_count": 49,
   "id": "f4524605-914a-41ba-9695-de966f904df9",
   "metadata": {},
   "outputs": [],
   "source": [
    "Y_classes = filtered_df.stone_class.values[indices]"
   ]
  },
  {
   "cell_type": "code",
   "execution_count": 50,
   "id": "7140fbd7-25b8-4b7c-a8ad-8dfbe19a3c55",
   "metadata": {},
   "outputs": [],
   "source": [
    "Y = np.asarray(list(map(classes_mapper, Y_classes)))"
   ]
  },
  {
   "cell_type": "code",
   "execution_count": 32,
   "id": "da4d06ff-b4da-444a-8b39-fc5ced016def",
   "metadata": {},
   "outputs": [],
   "source": [
    "train_size = int(TRAIN_TEST_SPLIT_SIZE * X.shape[0])"
   ]
  },
  {
   "cell_type": "code",
   "execution_count": 73,
   "id": "25cba9f1-c8a5-4df8-914e-b5f129fd1b03",
   "metadata": {},
   "outputs": [
    {
     "name": "stdout",
     "output_type": "stream",
     "text": [
      "Y_train.shape = (568,)\n",
      "X_train.shape = (568, 25088)\n"
     ]
    }
   ],
   "source": [
    "X_train = X[:train_size]\n",
    "Y_train = Y[:train_size]\n",
    "\n",
    "Y_train = np.reshape(Y_train, (Y_train.shape[0], -1))\n",
    "Y_train = np.repeat(Y_train, X_train.shape[1], axis=-1)\n",
    "Y_train = np.reshape(Y_train, (-1,))\n",
    "print(f\"Y_train.shape = {Y_train.shape}\")\n",
    "\n",
    "X_train = np.reshape(X_train, (-1,) + X_train.shape[2:])\n",
    "X_train = np.reshape(X_train, (X_train.shape[0], -1))\n",
    "print(f\"X_train.shape = {X_train.shape}\")"
   ]
  },
  {
   "cell_type": "code",
   "execution_count": 74,
   "id": "252915d1-0e51-4270-b270-62d12a77303b",
   "metadata": {},
   "outputs": [
    {
     "name": "stdout",
     "output_type": "stream",
     "text": [
      "X_test.shape = (61, 25088)\n",
      "Y_test.shape = (61,)\n"
     ]
    }
   ],
   "source": [
    "X_test = X[train_size:]\n",
    "Y_test = Y[train_size:]\n",
    "\n",
    "X_test = X_test[:, 0, ...]\n",
    "X_test = np.reshape(X_test, (-1,) + X_test.shape[1:])\n",
    "X_test = np.reshape(X_test, (X_test.shape[0], -1))\n",
    "print(f\"X_test.shape = {X_test.shape}\")\n",
    "\n",
    "print(f\"Y_test.shape = {Y_test.shape}\")"
   ]
  },
  {
   "cell_type": "markdown",
   "id": "006a6bec-b56d-4763-9c7b-041ec59aa410",
   "metadata": {},
   "source": [
    "# Model creation"
   ]
  },
  {
   "cell_type": "code",
   "execution_count": 76,
   "id": "768aa7da-8053-4fa3-b0b3-1a8a89ed7580",
   "metadata": {},
   "outputs": [],
   "source": [
    "hidden_layers = (2000, 500, 100)\n",
    "nb_classes = len(CLASSES) + int(WITH_OTHER)"
   ]
  },
  {
   "cell_type": "code",
   "execution_count": 79,
   "id": "77fda5b1-5e36-4ec1-b4d9-26ce1b4af3ab",
   "metadata": {},
   "outputs": [],
   "source": [
    "classifier = MLPClassifier(hidden_layers, batch_size=BATCH_SIZE, verbose=True, random_state=SEED)"
   ]
  },
  {
   "cell_type": "code",
   "execution_count": 80,
   "id": "6b9645af-cbbc-4c49-8ff9-18410a75b53d",
   "metadata": {},
   "outputs": [
    {
     "name": "stdout",
     "output_type": "stream",
     "text": [
      "Iteration 1, loss = 9.47880419\n",
      "Iteration 2, loss = 3.44161575\n",
      "Iteration 3, loss = 0.64284072\n",
      "Iteration 4, loss = 0.21540170\n",
      "Iteration 5, loss = 0.01240974\n",
      "Iteration 6, loss = 0.00957619\n",
      "Iteration 7, loss = 0.00783482\n",
      "Iteration 8, loss = 0.00443931\n",
      "Iteration 9, loss = 0.00740803\n",
      "Iteration 10, loss = 0.00471154\n",
      "Iteration 11, loss = 0.00533822\n",
      "Iteration 12, loss = 0.00447558\n",
      "Iteration 13, loss = 0.00443988\n",
      "Iteration 14, loss = 0.00442906\n",
      "Iteration 15, loss = 0.00442068\n",
      "Iteration 16, loss = 0.00441529\n",
      "Iteration 17, loss = 0.00441177\n",
      "Iteration 18, loss = 0.00440901\n",
      "Iteration 19, loss = 0.00440613\n",
      "Training loss did not improve more than tol=0.000100 for 10 consecutive epochs. Stopping.\n"
     ]
    },
    {
     "data": {
      "text/plain": [
       "MLPClassifier(batch_size=64, hidden_layer_sizes=(2000, 500, 100), verbose=True)"
      ]
     },
     "execution_count": 80,
     "metadata": {},
     "output_type": "execute_result"
    }
   ],
   "source": [
    "classifier.fit(X_train, Y_train)"
   ]
  },
  {
   "cell_type": "code",
   "execution_count": 115,
   "id": "fefb37b8-9e2a-4dd2-bb47-5cffc0837a52",
   "metadata": {},
   "outputs": [
    {
     "data": {
      "image/png": "[encoded data removed]",
      "text/plain": [
       "<Figure size 1296x432 with 1 Axes>"
      ]
     },
     "metadata": {
      "needs_background": "light"
     },
     "output_type": "display_data"
    }
   ],
   "source": [
    "plt.figure(figsize=(18,6))\n",
    "xticks = np.arange(classifier.n_iter_) + 1\n",
    "plt.plot(xticks, classifier.loss_curve_);\n",
    "plt.yscale('log');\n",
    "plt.xticks(xticks);\n",
    "plt.xlabel('Epochs');\n",
    "plt.ylabel('Loss');"
   ]
  },
  {
   "cell_type": "code",
   "execution_count": 96,
   "id": "3af09dac-9f25-43d0-8f9d-c0d46700331e",
   "metadata": {},
   "outputs": [
    {
     "data": {
      "text/plain": [
       "0.8524590163934426"
      ]
     },
     "execution_count": 96,
     "metadata": {},
     "output_type": "execute_result"
    }
   ],
   "source": [
    "classifier.score(X_test, Y_test)"
   ]
  },
  {
   "cell_type": "markdown",
   "id": "9344c3fb-f302-4e4a-817b-93da05f566c2",
   "metadata": {},
   "source": [
    "# Test model performances"
   ]
  },
  {
   "cell_type": "code",
   "execution_count": 121,
   "id": "26462d46-2f73-49a1-a1f5-8d4c4926671d",
   "metadata": {},
   "outputs": [],
   "source": [
    "def inverse_class_mapper(pred):\n",
    "    return (CLASSES + ['Other'] if WITH_OTHER else CLASSES)[pred]"
   ]
  },
  {
   "cell_type": "code",
   "execution_count": 97,
   "id": "b53282f5-a0bf-4e65-a28e-3f3661495f3b",
   "metadata": {},
   "outputs": [],
   "source": [
    "Y_pred = classifier.predict(X_test)"
   ]
  },
  {
   "cell_type": "code",
   "execution_count": 101,
   "id": "f9b47ef8-c396-453a-8d14-b8db39f9fce9",
   "metadata": {},
   "outputs": [
    {
     "name": "stdout",
     "output_type": "stream",
     "text": [
      "              precision    recall  f1-score   support\n",
      "\n",
      "          Ia       0.88      1.00      0.94        15\n",
      "         IIb       1.00      0.80      0.89         5\n",
      "        IIIb       0.54      1.00      0.70         7\n",
      "       Other       0.96      0.76      0.85        34\n",
      "\n",
      "    accuracy                           0.85        61\n",
      "   macro avg       0.85      0.89      0.84        61\n",
      "weighted avg       0.90      0.85      0.86        61\n",
      "\n"
     ]
    }
   ],
   "source": [
    "class_labels = CLASSES + ['Other'] if WITH_OTHER else CLASSES\n",
    "print(classification_report(Y_test, Y_pred, target_names=class_labels))"
   ]
  },
  {
   "cell_type": "code",
   "execution_count": 134,
   "id": "acd232cd-2310-4876-8574-f16e92fecbb3",
   "metadata": {},
   "outputs": [],
   "source": [
    "test_df = pd.DataFrame(filtered_df.iloc[indices][train_size:])"
   ]
  },
  {
   "cell_type": "code",
   "execution_count": 143,
   "id": "8e787a7e-a17f-40fb-b519-9739a27cd1c2",
   "metadata": {},
   "outputs": [
    {
     "data": {
      "text/plain": [
       "'Ia'"
      ]
     },
     "execution_count": 143,
     "metadata": {},
     "output_type": "execute_result"
    }
   ],
   "source": [
    "inverse_class_mapper(0)"
   ]
  },
  {
   "cell_type": "code",
   "execution_count": 139,
   "id": "8988782f-6f59-439b-83e2-5211afc8226b",
   "metadata": {},
   "outputs": [
    {
     "data": {
      "text/plain": [
       "array(['IIIa', 'Va', 'Ia', 'IVa2', 'IIb', 'IVc', 'IVa2', 'Ia', 'Ia',\n",
       "       'IVa1', 'IVd', 'Ia', 'Ib', 'Ia', 'Id', 'Id', 'VIa', 'IVa1', 'IIIb',\n",
       "       'IIIb', 'Ia', 'Va', 'IIIa', 'Ia', 'Va', 'IVb', 'IIIb', 'IIb', 'Ia',\n",
       "       'IIIb', 'Ia', 'Ia', 'Ia', 'IIb', 'IIa', 'Ia', 'Ia', 'VIa', 'IVa1',\n",
       "       'IIb', 'Ia', 'IVd', 'IIIb', 'IIIb', 'IIIb', 'IVd', 'IIIb', 'IIIb',\n",
       "       'IVa2', 'Ia', 'IIb', 'IIb', 'Id', 'Ia', 'IIIb', 'IIIb', 'IVc',\n",
       "       'IVa1', 'Ia', 'Ib', 'IIIb'], dtype=object)"
      ]
     },
     "execution_count": 139,
     "metadata": {},
     "output_type": "execute_result"
    }
   ],
   "source": [
    "Y_classes[train_size:]"
   ]
  },
  {
   "cell_type": "code",
   "execution_count": 141,
   "id": "72318ffc-6fca-4f3d-a0da-44aa70efe7cf",
   "metadata": {},
   "outputs": [
    {
     "name": "stdout",
     "output_type": "stream",
     "text": [
      "[3, 3, 0, 3, 1, 3, 3, 0, 0, 3, 3, 0, 3, 0, 3, 3, 3, 3, 2, 2, 0, 3, 3, 0, 3, 3, 2, 1, 0, 2, 0, 0, 0, 1, 3, 0, 0, 3, 3, 1, 0, 3, 2, 2, 2, 3, 2, 2, 3, 0, 1, 1, 3, 0, 2, 2, 3, 3, 0, 3, 2]\n"
     ]
    }
   ],
   "source": [
    "print(list(map(classes_mapper, Y_classes[train_size:])))"
   ]
  },
  {
   "cell_type": "code",
   "execution_count": 145,
   "id": "8e86e8c1-3591-4460-93fe-ae4033e24a1b",
   "metadata": {},
   "outputs": [
    {
     "name": "stdout",
     "output_type": "stream",
     "text": [
      "[3 3 3 3 3 3 3 3 3 1 3 2 3 0 0 3 1 0 2 3 3 3 0 3 3 0 0 0 3 3 3 0 3 3 2 3 1\n",
      " 3 3 0 3 3 2 3 2 0 1 0 1 3 3 3 3 0 3 0 0 3 2 0 2]\n"
     ]
    }
   ],
   "source": [
    "print(Y_test)"
   ]
  },
  {
   "cell_type": "code",
   "execution_count": 144,
   "id": "7672e31f-590d-4d1c-9f0a-add665073f86",
   "metadata": {},
   "outputs": [
    {
     "name": "stdout",
     "output_type": "stream",
     "text": [
      "[3 3 3 3 3 2 3 3 2 3 2 2 3 0 0 3 1 0 2 3 0 3 0 3 3 0 0 0 2 3 3 0 3 3 2 3 1\n",
      " 0 3 0 2 3 2 3 2 0 1 0 1 3 2 3 3 0 3 0 0 3 2 0 2]\n"
     ]
    }
   ],
   "source": [
    "print(Y_pred)"
   ]
  },
  {
   "cell_type": "code",
   "execution_count": 135,
   "id": "8f5a8512-197f-466d-a924-bdbf6023373f",
   "metadata": {},
   "outputs": [],
   "source": [
    "test_df['y_pred'] = list(map(inverse_class_mapper, Y_pred))\n",
    "test_df['y_true'] = list(map(inverse_class_mapper, Y_test))"
   ]
  },
  {
   "cell_type": "code",
   "execution_count": 136,
   "id": "71614a10-7d1e-45e3-ab9b-f8a52f62adb7",
   "metadata": {},
   "outputs": [],
   "source": [
    "test_df['correct'] = Y_pred == Y_test"
   ]
  },
  {
   "cell_type": "code",
   "execution_count": 137,
   "id": "08749155-6e35-4b24-8074-74ee50e4db7b",
   "metadata": {},
   "outputs": [
    {
     "data": {
      "text/html": [
       "<div>\n",
       "<style scoped>\n",
       "    .dataframe tbody tr th:only-of-type {\n",
       "        vertical-align: middle;\n",
       "    }\n",
       "\n",
       "    .dataframe tbody tr th {\n",
       "        vertical-align: top;\n",
       "    }\n",
       "\n",
       "    .dataframe thead th {\n",
       "        text-align: right;\n",
       "    }\n",
       "</style>\n",
       "<table border=\"1\" class=\"dataframe\">\n",
       "  <thead>\n",
       "    <tr style=\"text-align: right;\">\n",
       "      <th></th>\n",
       "      <th>filename</th>\n",
       "      <th>stone_class</th>\n",
       "      <th>class_level_1</th>\n",
       "      <th>class_level_2</th>\n",
       "      <th>filetype</th>\n",
       "      <th>SUR</th>\n",
       "      <th>SEC</th>\n",
       "      <th>y_pred</th>\n",
       "      <th>y_true</th>\n",
       "      <th>correct</th>\n",
       "    </tr>\n",
       "  </thead>\n",
       "  <tbody>\n",
       "    <tr>\n",
       "      <th>38</th>\n",
       "      <td>IIIa_SUR_3.png</td>\n",
       "      <td>IIIa</td>\n",
       "      <td>III</td>\n",
       "      <td>a</td>\n",
       "      <td>png</td>\n",
       "      <td>True</td>\n",
       "      <td>False</td>\n",
       "      <td>Other</td>\n",
       "      <td>Other</td>\n",
       "      <td>True</td>\n",
       "    </tr>\n",
       "    <tr>\n",
       "      <th>88</th>\n",
       "      <td>Va_SUR_3.png</td>\n",
       "      <td>Va</td>\n",
       "      <td>V</td>\n",
       "      <td>a</td>\n",
       "      <td>png</td>\n",
       "      <td>True</td>\n",
       "      <td>False</td>\n",
       "      <td>Other</td>\n",
       "      <td>Other</td>\n",
       "      <td>True</td>\n",
       "    </tr>\n",
       "    <tr>\n",
       "      <th>125</th>\n",
       "      <td>Ia_SEC_1.jpg</td>\n",
       "      <td>Ia</td>\n",
       "      <td>I</td>\n",
       "      <td>a</td>\n",
       "      <td>jpg</td>\n",
       "      <td>False</td>\n",
       "      <td>True</td>\n",
       "      <td>Other</td>\n",
       "      <td>Other</td>\n",
       "      <td>True</td>\n",
       "    </tr>\n",
       "    <tr>\n",
       "      <th>70</th>\n",
       "      <td>IVa2_SUR_1.png</td>\n",
       "      <td>IVa2</td>\n",
       "      <td>IV</td>\n",
       "      <td>a2</td>\n",
       "      <td>png</td>\n",
       "      <td>True</td>\n",
       "      <td>False</td>\n",
       "      <td>Other</td>\n",
       "      <td>Other</td>\n",
       "      <td>True</td>\n",
       "    </tr>\n",
       "    <tr>\n",
       "      <th>149</th>\n",
       "      <td>IIb_SUR_2.jpg</td>\n",
       "      <td>IIb</td>\n",
       "      <td>II</td>\n",
       "      <td>b</td>\n",
       "      <td>jpg</td>\n",
       "      <td>True</td>\n",
       "      <td>False</td>\n",
       "      <td>Other</td>\n",
       "      <td>Other</td>\n",
       "      <td>True</td>\n",
       "    </tr>\n",
       "    <tr>\n",
       "      <th>...</th>\n",
       "      <td>...</td>\n",
       "      <td>...</td>\n",
       "      <td>...</td>\n",
       "      <td>...</td>\n",
       "      <td>...</td>\n",
       "      <td>...</td>\n",
       "      <td>...</td>\n",
       "      <td>...</td>\n",
       "      <td>...</td>\n",
       "      <td>...</td>\n",
       "    </tr>\n",
       "    <tr>\n",
       "      <th>34</th>\n",
       "      <td>IVc_SEC_4.png</td>\n",
       "      <td>IVc</td>\n",
       "      <td>IV</td>\n",
       "      <td>c</td>\n",
       "      <td>png</td>\n",
       "      <td>False</td>\n",
       "      <td>True</td>\n",
       "      <td>Ia</td>\n",
       "      <td>Ia</td>\n",
       "      <td>True</td>\n",
       "    </tr>\n",
       "    <tr>\n",
       "      <th>179</th>\n",
       "      <td>IVa1_SUR_1.png</td>\n",
       "      <td>IVa1</td>\n",
       "      <td>IV</td>\n",
       "      <td>a1</td>\n",
       "      <td>png</td>\n",
       "      <td>True</td>\n",
       "      <td>False</td>\n",
       "      <td>Other</td>\n",
       "      <td>Other</td>\n",
       "      <td>True</td>\n",
       "    </tr>\n",
       "    <tr>\n",
       "      <th>146</th>\n",
       "      <td>Ia_SUR_8.jpg</td>\n",
       "      <td>Ia</td>\n",
       "      <td>I</td>\n",
       "      <td>a</td>\n",
       "      <td>jpg</td>\n",
       "      <td>True</td>\n",
       "      <td>False</td>\n",
       "      <td>IIIb</td>\n",
       "      <td>IIIb</td>\n",
       "      <td>True</td>\n",
       "    </tr>\n",
       "    <tr>\n",
       "      <th>162</th>\n",
       "      <td>Ib_SEC_4.png</td>\n",
       "      <td>Ib</td>\n",
       "      <td>I</td>\n",
       "      <td>b</td>\n",
       "      <td>png</td>\n",
       "      <td>False</td>\n",
       "      <td>True</td>\n",
       "      <td>Ia</td>\n",
       "      <td>Ia</td>\n",
       "      <td>True</td>\n",
       "    </tr>\n",
       "    <tr>\n",
       "      <th>21</th>\n",
       "      <td>IIIb_SEC_10.jpg</td>\n",
       "      <td>IIIb</td>\n",
       "      <td>III</td>\n",
       "      <td>b</td>\n",
       "      <td>jpg</td>\n",
       "      <td>False</td>\n",
       "      <td>True</td>\n",
       "      <td>IIIb</td>\n",
       "      <td>IIIb</td>\n",
       "      <td>True</td>\n",
       "    </tr>\n",
       "  </tbody>\n",
       "</table>\n",
       "<p>61 rows × 10 columns</p>\n",
       "</div>"
      ],
      "text/plain": [
       "            filename stone_class class_level_1 class_level_2 filetype    SUR  \\\n",
       "38    IIIa_SUR_3.png        IIIa           III             a      png   True   \n",
       "88      Va_SUR_3.png          Va             V             a      png   True   \n",
       "125     Ia_SEC_1.jpg          Ia             I             a      jpg  False   \n",
       "70    IVa2_SUR_1.png        IVa2            IV            a2      png   True   \n",
       "149    IIb_SUR_2.jpg         IIb            II             b      jpg   True   \n",
       "..               ...         ...           ...           ...      ...    ...   \n",
       "34     IVc_SEC_4.png         IVc            IV             c      png  False   \n",
       "179   IVa1_SUR_1.png        IVa1            IV            a1      png   True   \n",
       "146     Ia_SUR_8.jpg          Ia             I             a      jpg   True   \n",
       "162     Ib_SEC_4.png          Ib             I             b      png  False   \n",
       "21   IIIb_SEC_10.jpg        IIIb           III             b      jpg  False   \n",
       "\n",
       "       SEC y_pred y_true  correct  \n",
       "38   False  Other  Other     True  \n",
       "88   False  Other  Other     True  \n",
       "125   True  Other  Other     True  \n",
       "70   False  Other  Other     True  \n",
       "149  False  Other  Other     True  \n",
       "..     ...    ...    ...      ...  \n",
       "34    True     Ia     Ia     True  \n",
       "179  False  Other  Other     True  \n",
       "146  False   IIIb   IIIb     True  \n",
       "162   True     Ia     Ia     True  \n",
       "21    True   IIIb   IIIb     True  \n",
       "\n",
       "[61 rows x 10 columns]"
      ]
     },
     "execution_count": 137,
     "metadata": {},
     "output_type": "execute_result"
    }
   ],
   "source": [
    "test_df"
   ]
  },
  {
   "cell_type": "code",
   "execution_count": null,
   "id": "30477870-8977-45b4-9680-0db39be0695b",
   "metadata": {},
   "outputs": [],
   "source": [
    "test_df.groupby(['stone_class', 'SUR', 'SEC'])"
   ]
  },
  {
   "cell_type": "code",
   "execution_count": null,
   "id": "99f534a5-9998-4304-a6a2-363c63a03422",
   "metadata": {},
   "outputs": [],
   "source": [
    "def create_classifier(input_shape, layers, nb_classes):\n",
    "    X = tf.keras.Input(shape=input_shape)\n",
    "    \n",
    "    processing = X\n",
    "    for layer in layers:\n",
    "        if type(layer) is int:\n",
    "            processing = tf.keras.layers.Dense(layer, activation='relu')"
   ]
  }
 ],
 "metadata": {
  "kernelspec": {
   "display_name": "Python 3",
   "language": "python",
   "name": "python3"
  },
  "language_info": {
   "codemirror_mode": {
    "name": "ipython",
    "version": 3
   },
   "file_extension": ".py",
   "mimetype": "text/x-python",
   "name": "python",
   "nbconvert_exporter": "python",
   "pygments_lexer": "ipython3",
   "version": "3.8.8"
  }
 },
 "nbformat": 4,
 "nbformat_minor": 5
}
